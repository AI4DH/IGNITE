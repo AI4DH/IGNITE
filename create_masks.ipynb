{
 "cells": [
  {
   "cell_type": "code",
   "execution_count": 1,
   "id": "6d7812c5",
   "metadata": {},
   "outputs": [],
   "source": [
    "import pandas as pd\n",
    "import os\n",
    "import re\n",
    "import numpy as np\n",
    "import ujson as json\n",
    "import dill\n",
    "import pickle\n",
    "from bottleneck import push"
   ]
  },
  {
   "cell_type": "code",
   "execution_count": 2,
   "id": "387aa078",
   "metadata": {},
   "outputs": [],
   "source": [
    "data_path = 'physionet'\n",
    "with open(os.path.join(data_path, 'FP_2012_origional.pkl'), 'rb') as f:\n",
    "    origional = pickle.load(f)"
   ]
  },
  {
   "cell_type": "code",
   "execution_count": 3,
   "id": "e0700abb",
   "metadata": {},
   "outputs": [
    {
     "data": {
      "text/plain": [
       "(4000, 48, 35)"
      ]
     },
     "execution_count": 3,
     "metadata": {},
     "output_type": "execute_result"
    }
   ],
   "source": [
    "origional.shape"
   ]
  },
  {
   "cell_type": "code",
   "execution_count": null,
   "id": "05accd35",
   "metadata": {},
   "outputs": [],
   "source": [
    "def renormalize(data, means, stds):\n",
    "    renorms=[]\n",
    "    for patient in data:\n",
    "        r= patient*stds+ means\n",
    "        renorms.append(r)\n",
    "    renorm_full = np.stack(renorms, axis=0)\n",
    "    return(renorm_full)\n",
    "def normalize(data, means, stds):\n",
    "    renorms=[]\n",
    "    for patient in data:\n",
    "        r= (patient-means) /stds\n",
    "        renorms.append(r)\n",
    "    renorm_full = np.stack(renorms, axis=0)\n",
    "    return(renorm_full)"
   ]
  },
  {
   "cell_type": "code",
   "execution_count": 4,
   "id": "f30d2630",
   "metadata": {},
   "outputs": [],
   "source": [
    "def create_individualized_missingness_mask(mask):\n",
    "  np.set_printoptions(suppress=False, precision= 9)\n",
    "  samples_len =mask.shape[0]\n",
    "  time_steps = mask.shape[1]\n",
    "  features = mask.shape[2]\n",
    "  \n",
    "  personalized_mask_full = np.empty(shape=[samples_len,time_steps,features])\n",
    "  personalized_mask_patient = []\n",
    "  personalized_mask_sample = np.ones(shape=[time_steps,features])\n",
    "  for patient_mask in mask:\n",
    "        num_measurments_per_feature = patient_mask.sum(axis=0)\n",
    "        # for each patient mask\n",
    "        tf=((num_measurments_per_feature)/time_steps)\n",
    "        personalized_mask_patient.append(np.where(patient_mask == 0, tf, patient_mask))\n",
    "    # stack all feature-specific patient masks tnto a 3d tensor\n",
    "  personalized_mask_full = np.stack(personalized_mask_patient, axis=0)\n",
    "  return(personalized_mask_full)"
   ]
  },
  {
   "cell_type": "markdown",
   "id": "68aac018",
   "metadata": {},
   "source": [
    "Create Binary Mask"
   ]
  },
  {
   "cell_type": "code",
   "execution_count": 5,
   "id": "bf404b5a",
   "metadata": {},
   "outputs": [],
   "source": [
    "mask=~np.isnan(origional)*1"
   ]
  },
  {
   "cell_type": "markdown",
   "id": "7558604a",
   "metadata": {},
   "source": [
    "Create Individualized Missingness Mask (IMM)"
   ]
  },
  {
   "cell_type": "code",
   "execution_count": 6,
   "id": "918ea244",
   "metadata": {},
   "outputs": [],
   "source": [
    "IMM= create_individualized_missingness_mask(mask)"
   ]
  },
  {
   "cell_type": "markdown",
   "id": "0283360f",
   "metadata": {},
   "source": [
    "Last Observation Carried Forward (LOCF), \n",
    "all missing values with no prior measurments, are replaced with zero"
   ]
  },
  {
   "cell_type": "code",
   "execution_count": 7,
   "id": "2e94cd2c",
   "metadata": {},
   "outputs": [],
   "source": [
    "LOCV =push(origional, axis=1)\n",
    "LOCV= np.where(np.isnan(LOCV), 0, LOCV)"
   ]
  },
  {
   "cell_type": "markdown",
   "id": "6b293695",
   "metadata": {},
   "source": [
    "Zero Imputation"
   ]
  },
  {
   "cell_type": "code",
   "execution_count": 8,
   "id": "d114e05f",
   "metadata": {},
   "outputs": [],
   "source": [
    "zero= np.where(np.isnan(origional), 0, origional)"
   ]
  },
  {
   "cell_type": "code",
   "execution_count": null,
   "id": "730b5504",
   "metadata": {},
   "outputs": [],
   "source": []
  },
  {
   "cell_type": "code",
   "execution_count": null,
   "id": "250b9da5",
   "metadata": {},
   "outputs": [],
   "source": []
  }
 ],
 "metadata": {
  "kernelspec": {
   "display_name": "Python 3 (ipykernel)",
   "language": "python",
   "name": "python3"
  },
  "language_info": {
   "codemirror_mode": {
    "name": "ipython",
    "version": 3
   },
   "file_extension": ".py",
   "mimetype": "text/x-python",
   "name": "python",
   "nbconvert_exporter": "python",
   "pygments_lexer": "ipython3",
   "version": "3.9.13"
  }
 },
 "nbformat": 4,
 "nbformat_minor": 5
}
