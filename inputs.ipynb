{
 "cells": [
  {
   "cell_type": "code",
   "execution_count": null,
   "id": "fba30e40",
   "metadata": {},
   "outputs": [],
   "source": [
    "import pandas as pd\n",
    "import os\n",
    "import numpy as np\n",
    "import dill\n",
    "import pickle\n",
    "import prep_inputs"
   ]
  },
  {
   "cell_type": "markdown",
   "id": "d9f8b4a3",
   "metadata": {},
   "source": [
    "Load data"
   ]
  },
  {
   "cell_type": "code",
   "execution_count": null,
   "id": "44011438",
   "metadata": {},
   "outputs": [],
   "source": [
    "data_path = 'extracts/'\n",
    "with open(os.path.join(data_path, '....pkl'), 'rb') as f: # time-series (3D tensor Medical)\n",
    "    origional= pickle.load(f)\n",
    "with open(os.path.join(data_path, '....pkl'), 'rb') as f: # time-series intervensions (3D tensor)\n",
    "    interventions= pickle.load(f)\n",
    "with open(os.path.join(data_path, '....pkl'), 'rb') as f: # dataframe with static data\n",
    "    static_data= pickle.load(f)\n",
    "with open(os.path.join(data_path, '....pkl'), 'rb') as f: # outcomes to be predicted\n",
    "    oucomes= pickle.load(f)"
   ]
  },
  {
   "cell_type": "markdown",
   "id": "8f8d16d5",
   "metadata": {},
   "source": [
    "Create Normalized Data"
   ]
  },
  {
   "cell_type": "code",
   "execution_count": null,
   "id": "e5ae21b2",
   "metadata": {},
   "outputs": [],
   "source": [
    "mins = []\n",
    "maxs = []\n",
    "flatten= origional.reshape(origional.shape[0]*origional.shape[1], origional.shape[2])\n",
    "for i in range(origional.shape[2]):\n",
    "\n",
    "        mins.append(np.nanmin(flatten[:,i]))\n",
    "\n",
    "        maxs.append(np.nanmax(flatten[:,i]))\n",
    "normalized =normalize(origional,mins,maxs)"
   ]
  },
  {
   "cell_type": "markdown",
   "id": "d1744491",
   "metadata": {},
   "source": [
    "Create Conditions"
   ]
  },
  {
   "cell_type": "code",
   "execution_count": null,
   "id": "5f84e7e9",
   "metadata": {},
   "outputs": [],
   "source": [
    "# inputs : static df , name of age column, name of gender column, and intervention 3d tensor\n",
    "# output : 3d tensor with conditions\n",
    "stat=get_conditions(static_data, \"Age\", \"Gender\", interv_combined)"
   ]
  },
  {
   "cell_type": "markdown",
   "id": "edb604dd",
   "metadata": {},
   "source": [
    "Export Data"
   ]
  },
  {
   "cell_type": "code",
   "execution_count": null,
   "id": "f7cfd912",
   "metadata": {},
   "outputs": [],
   "source": [
    "with open('extracts/condition.pkl', 'wb') as outfile:\n",
    "    dill.dump(stat, outfile, pickle.HIGHEST_PROTOCOL) \n",
    "with open('extracts/normalized_combined.pkl', 'wb') as outfile:\n",
    "    dill.dump(normalized, outfile, pickle.HIGHEST_PROTOCOL)  \n",
    "with open('extracts/outcomes.pkl', 'wb') as outfile:\n",
    "    dill.dump(imputed, outfile, pickle.HIGHEST_PROTOCOL) "
   ]
  }
 ],
 "metadata": {
  "kernelspec": {
   "display_name": "Python 3 (ipykernel)",
   "language": "python",
   "name": "python3"
  },
  "language_info": {
   "codemirror_mode": {
    "name": "ipython",
    "version": 3
   },
   "file_extension": ".py",
   "mimetype": "text/x-python",
   "name": "python",
   "nbconvert_exporter": "python",
   "pygments_lexer": "ipython3",
   "version": "3.9.13"
  }
 },
 "nbformat": 4,
 "nbformat_minor": 5
}
