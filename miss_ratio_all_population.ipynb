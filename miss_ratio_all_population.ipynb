{
 "cells": [
  {
   "cell_type": "code",
   "execution_count": 1,
   "id": "ad15df68",
   "metadata": {},
   "outputs": [],
   "source": [
    "import os\n",
    "import numpy as np\n",
    "import dill\n",
    "import pickle\n",
    "from bottleneck import push\n",
    "from fancyimpute import IterativeImputer\n",
    "from miss_utils import *"
   ]
  },
  {
   "cell_type": "code",
   "execution_count": 2,
   "id": "8523565d",
   "metadata": {},
   "outputs": [],
   "source": [
    "data_path = 'extracts/'\n",
    "with open(os.path.join(data_path, '3d_tensor_set_a.pkl'), 'rb') as f:\n",
    "    origional_a = pickle.load(f)\n",
    "    \n",
    "with open(os.path.join(data_path, '3d_tensor_set_b.pkl'), 'rb') as f:\n",
    "    origional_b = pickle.load(f)    \n",
    "\n",
    "with open(os.path.join(data_path, '3d_tensor_set_c.pkl'), 'rb') as f:\n",
    "    origional_c = pickle.load(f)\n",
    "    \n",
    "origional = np.vstack([origional_a,origional_b,origional_c]) \n",
    "mask=~np.isnan(origional)*1"
   ]
  },
  {
   "cell_type": "code",
   "execution_count": 3,
   "id": "0e7ab16a",
   "metadata": {},
   "outputs": [],
   "source": [
    "\n",
    "mins = []\n",
    "maxs = []\n",
    "flatten= origional.reshape(origional.shape[0]*origional.shape[1], origional.shape[2])\n",
    "\n",
    "for i in range(origional.shape[2]):\n",
    "\n",
    "        mins.append(np.nanmin(flatten[:,i]))\n",
    "\n",
    "        maxs.append(np.nanmax(flatten[:,i]))\n",
    "\n",
    "normalized =normalize(origional,mins,maxs)"
   ]
  },
  {
   "cell_type": "markdown",
   "id": "27f220ce",
   "metadata": {},
   "source": [
    "Patient level introduce"
   ]
  },
  {
   "cell_type": "code",
   "execution_count": 4,
   "id": "6277b370",
   "metadata": {},
   "outputs": [],
   "source": [
    "seed = 1234\n",
    "new_tensor, o,miss_indices=array_rsme(normalized,mask, 0.1, seed)\n",
    "LO =push(new_tensor, axis=1)\n",
    "LOCV= np.where(np.isnan(LO), 0, LO)\n",
    "zero= np.where(np.isnan(new_tensor), 0, new_tensor)\n",
    "means, stds = [],[]\n",
    "flatten= new_tensor.reshape(origional.shape[0]*origional.shape[1], 35)\n",
    "\n",
    "for i in range(35):\n",
    "    means.append(np.nanmean(flatten[:,i]))\n",
    "    stds.append(np.nanstd(flatten[:,i]))\n",
    "mean_imputed =mean_fill(new_tensor, means)\n",
    "mask_miss=~np.isnan(new_tensor)*1\n",
    "imputed=prepare_fills(new_tensor, means)\n",
    "IMM= create_individualized_missingness_mask(mask_miss)"
   ]
  },
  {
   "cell_type": "code",
   "execution_count": 5,
   "id": "615e72b8",
   "metadata": {},
   "outputs": [],
   "source": [
    "# with open('extracts/X_0.1_'+str(seed)+'.pkl', 'wb') as outfile:\n",
    "#     dill.dump(new_tensor, outfile, pickle.HIGHEST_PROTOCOL)  \n",
    "# with open('extracts/new_miss_oo_0.1_'+str(seed)+'.pkl', 'wb') as outfile:\n",
    "#     dill.dump(zero, outfile, pickle.HIGHEST_PROTOCOL) \n",
    "# with open('extracts/new_miss_0.1_back_forward_'+str(seed)+'.pkl', 'wb') as outfile:\n",
    "#     dill.dump(imputed, outfile, pickle.HIGHEST_PROTOCOL) \n",
    "# with open('extracts/mask_miss_0.1_'+str(seed)+'.pkl', 'wb') as outfile:\n",
    "#     dill.dump(mask_miss, outfile, pickle.HIGHEST_PROTOCOL)  \n",
    "# with open('extracts/IMM_0.1_'+str(seed)+'.pkl', 'wb') as outfile:\n",
    "#     dill.dump(IMM, outfile, pickle.HIGHEST_PROTOCOL)  "
   ]
  },
  {
   "cell_type": "code",
   "execution_count": 6,
   "id": "7dd51ed4",
   "metadata": {},
   "outputs": [],
   "source": [
    "mice_impute = IterativeImputer()\n",
    "flatten= new_tensor.reshape(new_tensor.shape[0]*new_tensor.shape[1], new_tensor.shape[2])\n",
    "MICE = mice_impute.fit_transform(flatten)\n",
    "MICE=MICE.reshape(new_tensor.shape[0], new_tensor.shape[1], new_tensor.shape[2])\n",
    "MICE =MICE.copy()"
   ]
  },
  {
   "cell_type": "code",
   "execution_count": 18,
   "id": "29079742",
   "metadata": {},
   "outputs": [],
   "source": [
    "experiment_name = \"IMM_population_1234_01\"\n",
    "saved_path = 'data/'\n",
    "observed_only_real = np.load(saved_path + experiment_name + '.npz')[\"observed_only_real\"]\n",
    "observed_only_rec = np.load(saved_path + experiment_name + '.npz')[\"observed_only_rec\"]\n",
    "IMM_real = np.load(saved_path + experiment_name + '.npz')[\"IMM_real\"]\n",
    "IMM_rec = np.load(saved_path + experiment_name + '.npz')[\"IMM_rec\"]\n",
    "imputed_ours =(mask_miss * (zero)+ ((1-mask_miss) *IMM_rec))\n",
    "GP = np.load(\"GP_0.1.npy\")\n",
    "GP_ =(mask_miss * (zero)+ ((1-mask_miss) *GP))\n",
    "\n",
    "with open(os.path.join('SAITS_01_miss_ratio.pkl'), 'rb') as f:\n",
    "           SAITS = pickle.load(f)    \n",
    "with open(os.path.join('BRITS_01_miss_ratio.pkl'), 'rb') as f:\n",
    "            BRITS = pickle.load(f)  \n",
    "        \n",
    "experiment_name = \"final_loss_contrastive_added_to_top_miss_01_pop\"\n",
    "saved_path = 'data/'\n",
    "observed_only_real2 = np.load(saved_path + experiment_name + '.npz')[\"observed_only_real\"]\n",
    "observed_only_rec2 = np.load(saved_path + experiment_name + '.npz')[\"observed_only_rec\"]\n",
    "IMM_real2 = np.load(saved_path + experiment_name + '.npz')[\"IMM_real\"]\n",
    "IMM_rec2 = np.load(saved_path + experiment_name + '.npz')[\"IMM_rec\"]       "
   ]
  },
  {
   "cell_type": "code",
   "execution_count": 19,
   "id": "e4b08aa8",
   "metadata": {},
   "outputs": [],
   "source": [
    "imputed_ours2 =(mask_miss * (zero)+ ((1-mask_miss) *observed_only_rec))"
   ]
  },
  {
   "cell_type": "code",
   "execution_count": 20,
   "id": "9ce2b36a",
   "metadata": {},
   "outputs": [],
   "source": [
    "imputed_ours =(mask_miss * (zero)+ ((1-mask_miss) *IMM_rec))\n",
    "imputed_ours2 =(mask_miss * (observed_only_real)+ ((1-mask_miss) *observed_only_rec))\n",
    "imputed_ours =(mask_miss * (observed_only_real)+ ((1-mask_miss) *IMM_rec))\n",
    "\n",
    "imputed_ours_oo =(mask_miss * (observed_only_real)+ ((1-mask_miss) *observed_only_rec2))\n",
    "imputed_our_imm =(mask_miss * (observed_only_real)+ ((1-mask_miss) *IMM_rec2))"
   ]
  },
  {
   "cell_type": "code",
   "execution_count": 21,
   "id": "959c3777",
   "metadata": {},
   "outputs": [],
   "source": [
    "MICE =MICE.copy()"
   ]
  },
  {
   "cell_type": "code",
   "execution_count": 22,
   "id": "e4a193c7",
   "metadata": {},
   "outputs": [],
   "source": [
    "flat= np.zeros((12000,48,35)).reshape(-1)\n",
    "flat[miss_indices] = 1\n",
    "indicating_mask=flat.reshape(12000,48,35)\n"
   ]
  },
  {
   "cell_type": "code",
   "execution_count": 23,
   "id": "0d9f4cdf",
   "metadata": {},
   "outputs": [
    {
     "name": "stdout",
     "output_type": "stream",
     "text": [
      "MAE\n",
      "----------------------\n",
      "LOCF 0.05165800462934476 0.027114409211606072\n",
      "mean 0.057670157153456546 0.020238543335535392\n",
      "mice 0.04616320078828389 0.018753096791934355\n",
      "BRITS 0.0024177451679315734 0.0035662082574153572\n",
      "SAITS 0.0025955762507195324 0.003548599447711563\n",
      "IGNITE 0.13910672629481463 0.04361542216578956\n",
      "IGNITE top 0.04989488488943224 0.01775066692252501\n",
      "IGNITE new OO 0.05450862826601374 0.018317351187256768\n",
      "IGNITE new IMM 0.14860325561304014 0.043433446060300626\n"
     ]
    }
   ],
   "source": [
    "print(\"MAE\")\n",
    "print(\"----------------------\")\n",
    "get_patient_level_MAE_array(LOCV, normalized, indicating_mask, \"LOCF\") # calculate mean absolute error on the ground truth (artificially-missing values)\n",
    "get_patient_level_MAE_array(mean_imputed, normalized, indicating_mask, \"mean\") # calculate mean absolute error on the ground truth (artificially-missing values)\n",
    "get_patient_level_MAE_array(MICE, normalized, indicating_mask, \"mice\") # calculate mean absolute error on the ground truth (artificially-missing values)\n",
    "get_patient_level_MAE_array(BRITS, normalized, indicating_mask, \"BRITS\")# calculate mean absolute error on the ground truth (artificially-missing values)\n",
    "get_patient_level_MAE_array(SAITS, normalized, indicating_mask, \"SAITS\") # calculate mean absolute error on the ground truth (artificially-missing values)\n",
    "get_patient_level_MAE_array(imputed_ours, normalized, indicating_mask, \"IGNITE\") # calculate mean absolute error on the ground truth (artificially-missing values)\n",
    "get_patient_level_MAE_array(imputed_ours2, normalized, indicating_mask, \"IGNITE top\") # calculate mean absolute error on the ground truth (artificially-missing values)\n",
    "get_patient_level_MAE_array(imputed_ours_oo, normalized, indicating_mask, \"IGNITE new OO\") # cl\n",
    "get_patient_level_MAE_array(imputed_our_imm, normalized, indicating_mask, \"IGNITE new IMM\") # cl"
   ]
  },
  {
   "cell_type": "code",
   "execution_count": 24,
   "id": "5f957e5f",
   "metadata": {},
   "outputs": [
    {
     "name": "stdout",
     "output_type": "stream",
     "text": [
      "RMSE\n",
      "----------------------\n",
      "LOCF 0.114883608165942 0.06284515936606051\n",
      "mean 0.09354327473848718 0.037884700165760905\n",
      "mice 0.08538658971605063 0.041727681138876566\n",
      "BRITS 0.0097380219805777 0.01350374072975449\n",
      "SAITS 0.010214848651670341 0.013343438752790296\n",
      "IGNITE OLD  0.20587205256933677 0.05328527492066753\n",
      "IGNITE OLD top 0.07630776711985905 0.03265895350440511\n",
      "IGNITE new OO 0.08354316449394361 0.033867877067840196\n",
      "IGNITE new IMM 0.21693774693254397 0.053564702090987265\n"
     ]
    }
   ],
   "source": [
    "print(\"RMSE\")\n",
    "print(\"----------------------\")\n",
    "get_patient_level_RMSE_array(LOCV, normalized, indicating_mask, \"LOCF\") # calculate mean absolute error on the ground truth (artificially-missing values)\n",
    "get_patient_level_RMSE_array(mean_imputed, normalized, indicating_mask, \"mean\") # calculate mean absolute error on the ground truth (artificially-missing values)\n",
    "get_patient_level_RMSE_array(MICE, normalized, indicating_mask, \"mice\") # calculate mean absolute error on the ground truth (artificially-missing values)\n",
    "get_patient_level_RMSE_array(BRITS, normalized, indicating_mask, \"BRITS\")# calculate mean absolute error on the ground truth (artificially-missing values)\n",
    "get_patient_level_RMSE_array(SAITS, normalized, indicating_mask, \"SAITS\") # calculate mean absolute error on the ground truth (artificially-missing values)\n",
    "get_patient_level_RMSE_array(imputed_ours, normalized, indicating_mask, \"IGNITE OLD \") # cl\n",
    "get_patient_level_RMSE_array(imputed_ours2, normalized, indicating_mask, \"IGNITE OLD top\") # cl\n",
    "get_patient_level_RMSE_array(imputed_ours_oo, normalized, indicating_mask, \"IGNITE new OO\") # cl\n",
    "get_patient_level_RMSE_array(imputed_our_imm, normalized, indicating_mask, \"IGNITE new IMM\") # cl"
   ]
  },
  {
   "cell_type": "code",
   "execution_count": 25,
   "id": "2f6c282b",
   "metadata": {},
   "outputs": [
    {
     "name": "stdout",
     "output_type": "stream",
     "text": [
      "MSE\n",
      "----------------------\n",
      "LOCF 0.017147757480971235 0.018922169036915223\n",
      "mean 0.0101855947554497 0.008945209646617276\n",
      "mice 0.009032069076564918 0.010381120623681718\n",
      "BRITS 0.0002771800857906448 0.001239675258724628\n",
      "SAITS 0.00028239049072599726 0.0012648536726619574\n",
      "IGNITE OLD  0.04522262255248288 0.02312208951350993\n",
      "IGNITE OLD top 0.006889482566821537 0.00665812334366644\n",
      "IGNITE new OO 0.008126493430744456 0.00716633381079762\n",
      "IGNITE new IMM 0.049931163354264695 0.02425188413960078\n"
     ]
    }
   ],
   "source": [
    "print(\"MSE\")\n",
    "print(\"----------------------\")\n",
    "get_patient_level_MSE_array(LOCV, normalized, indicating_mask, \"LOCF\") \n",
    "get_patient_level_MSE_array(mean_imputed, normalized, indicating_mask, \"mean\") # calculate mean absolute error on the ground truth (artificially-missing values)\n",
    "get_patient_level_MSE_array(MICE, normalized, indicating_mask, \"mice\") # calculate mean absolute error on the ground truth (artificially-missing values)\n",
    "get_patient_level_MSE_array(BRITS, normalized, indicating_mask, \"BRITS\")# calculate mean absolute error on the ground truth (artificially-missing values)\n",
    "get_patient_level_MSE_array(SAITS, normalized, indicating_mask, \"SAITS\") # calculate mean absolute error on the ground truth (artificially-missing values)\n",
    "get_patient_level_MSE_array(imputed_ours, normalized, indicating_mask, \"IGNITE OLD \") # cl\n",
    "get_patient_level_MSE_array(imputed_ours2, normalized, indicating_mask, \"IGNITE OLD top\") # cl\n",
    "get_patient_level_MSE_array(imputed_ours_oo, normalized, indicating_mask, \"IGNITE new OO\") # cl\n",
    "get_patient_level_MSE_array(imputed_our_imm, normalized, indicating_mask, \"IGNITE new IMM\") # cl"
   ]
  },
  {
   "cell_type": "markdown",
   "id": "6b0bc58a",
   "metadata": {},
   "source": [
    "Calculate Population level sum"
   ]
  },
  {
   "cell_type": "code",
   "execution_count": 26,
   "id": "81bc5b11",
   "metadata": {},
   "outputs": [
    {
     "name": "stdout",
     "output_type": "stream",
     "text": [
      "LOCF 0.12938261893970704\n",
      "mean 0.10222940397185304\n",
      "mice 0.09660854988723191\n",
      "BRITS 0.016449460954054876\n",
      "SAITS 0.016612336892042848\n",
      "IGNITE 0.2116896978597842\n",
      "IGNITE top 0.08384295218008475\n",
      "IGNITE new OO 0.09094525887899133\n",
      "IGNITE new IMM 0.22270213336997438\n"
     ]
    }
   ],
   "source": [
    "get_population_RMSE(LOCV, normalized, indicating_mask, \"LOCF\") \n",
    "get_population_RMSE(mean_imputed, normalized, indicating_mask, \"mean\") # calculate mean absolute error on the ground truth (artificially-missing values)\n",
    "get_population_RMSE(MICE, normalized, indicating_mask, \"mice\") # calculate mean absolute error on the ground truth (artificially-missing values)\n",
    "get_population_RMSE(BRITS, normalized, indicating_mask, \"BRITS\")# calculate mean absolute error on the ground truth (artificially-missing values)\n",
    "get_population_RMSE(SAITS, normalized, indicating_mask, \"SAITS\") # calculate mean absolute error on the ground truth (artificially-missing values)\n",
    "get_population_RMSE(imputed_ours, normalized, indicating_mask, \"IGNITE\") # cl\n",
    "get_population_RMSE(imputed_ours2, normalized, indicating_mask, \"IGNITE top\") # calculate mean absolute error on the ground truth (artificially-missing values)\n",
    "get_population_RMSE(imputed_ours_oo, normalized, indicating_mask, \"IGNITE new OO\") # cl\n",
    "get_population_RMSE(imputed_our_imm, normalized, indicating_mask, \"IGNITE new IMM\") # cl"
   ]
  },
  {
   "cell_type": "code",
   "execution_count": 27,
   "id": "a3530f9d",
   "metadata": {},
   "outputs": [
    {
     "name": "stdout",
     "output_type": "stream",
     "text": [
      "LOCF 0.016739862083697436\n",
      "mean 0.010450851036440322\n",
      "mice 0.009333211911313779\n",
      "BRITS 0.000270584765678976\n",
      "SAITS 0.0002759697370147278\n",
      "IGNITE lower 0.044812528179966726\n",
      "IGNITE top 0.007029640630271977\n",
      "IGNITE new OO 0.008271040112566751\n",
      "IGNITE new IMM 0.04959624020753786\n"
     ]
    }
   ],
   "source": [
    "get_population_MSE(LOCV, normalized, indicating_mask, \"LOCF\") \n",
    "get_population_MSE(mean_imputed, normalized, indicating_mask, \"mean\") # calculate mean absolute error on the ground truth (artificially-missing values)\n",
    "get_population_MSE(MICE, normalized, indicating_mask, \"mice\") # calculate mean absolute error on the ground truth (artificially-missing values)\n",
    "get_population_MSE(BRITS, normalized, indicating_mask, \"BRITS\")# calculate mean absolute error on the ground truth (artificially-missing values)\n",
    "get_population_MSE(SAITS, normalized, indicating_mask, \"SAITS\") # calculate mean absolute error on the ground truth (artificially-missing values)\n",
    "get_population_MSE(imputed_ours, normalized, indicating_mask, \"IGNITE lower\") # cl\n",
    "get_population_MSE(imputed_ours2, normalized, indicating_mask, \"IGNITE top\") # cl\n",
    "get_population_MSE(imputed_ours_oo, normalized, indicating_mask, \"IGNITE new OO\") # cl\n",
    "get_population_MSE(imputed_our_imm, normalized, indicating_mask, \"IGNITE new IMM\") # cl"
   ]
  },
  {
   "cell_type": "code",
   "execution_count": 28,
   "id": "808425e2",
   "metadata": {},
   "outputs": [
    {
     "name": "stdout",
     "output_type": "stream",
     "text": [
      "LOCF 0.05076275454231429\n",
      "mean 0.05789591910258009\n",
      "mice 0.046517276436382315\n",
      "BRITS 0.0023792980604556402\n",
      "SAITS 0.0025681972851686594\n",
      "IGNITE 0.13807257666174003\n",
      "IGNITE top 0.05008819766921089\n",
      "IGNITE new OO 0.054669810965794804\n",
      "IGNITE new IMM 0.14775936398853798\n"
     ]
    }
   ],
   "source": [
    "get_population_MAE(LOCV, normalized, indicating_mask, \"LOCF\") \n",
    "get_population_MAE(mean_imputed, normalized, indicating_mask, \"mean\") # calculate mean absolute error on the ground truth (artificially-missing values)\n",
    "get_population_MAE(MICE, normalized, indicating_mask, \"mice\") # calculate mean absolute error on the ground truth (artificially-missing values)\n",
    "get_population_MAE(BRITS, normalized, indicating_mask, \"BRITS\")# calculate mean absolute error on the ground truth (artificially-missing values)\n",
    "get_population_MAE(SAITS, normalized, indicating_mask, \"SAITS\") # calculate mean absolute error on the ground truth (artificially-missing values)\n",
    "get_population_MAE(imputed_ours, normalized, indicating_mask, \"IGNITE\") # cl\n",
    "get_population_MAE(imputed_ours2, normalized, indicating_mask, \"IGNITE top\") # cl\n",
    "get_population_MAE(imputed_ours_oo, normalized, indicating_mask, \"IGNITE new OO\") # cl\n",
    "get_population_MAE(imputed_our_imm, normalized, indicating_mask, \"IGNITE new IMM\") # cl"
   ]
  },
  {
   "cell_type": "markdown",
   "id": "da39696e",
   "metadata": {},
   "source": [
    "get weighted population sum"
   ]
  },
  {
   "cell_type": "code",
   "execution_count": 21,
   "id": "fd73e249",
   "metadata": {
    "scrolled": true
   },
   "outputs": [
    {
     "name": "stdout",
     "output_type": "stream",
     "text": [
      "LOCF 0.050762754540736796\n",
      "mean 0.057895919100818996\n",
      "mice 0.046517276434805806\n",
      "BRITS 0.0023792980603818065\n"
     ]
    },
    {
     "ename": "NameError",
     "evalue": "name 'get_populatiaon_MAE_weighted' is not defined",
     "output_type": "error",
     "traceback": [
      "\u001b[1;31m---------------------------------------------------------------------------\u001b[0m",
      "\u001b[1;31mNameError\u001b[0m                                 Traceback (most recent call last)",
      "Input \u001b[1;32mIn [21]\u001b[0m, in \u001b[0;36m<cell line: 5>\u001b[1;34m()\u001b[0m\n\u001b[0;32m      3\u001b[0m get_population_MAE_weighted(MICE, normalized, indicating_mask, \u001b[38;5;124m\"\u001b[39m\u001b[38;5;124mmice\u001b[39m\u001b[38;5;124m\"\u001b[39m) \u001b[38;5;66;03m# calculate mean absolute error on the ground truth (artificially-missing values)\u001b[39;00m\n\u001b[0;32m      4\u001b[0m get_population_MAE_weighted(BRITS, normalized, indicating_mask, \u001b[38;5;124m\"\u001b[39m\u001b[38;5;124mBRITS\u001b[39m\u001b[38;5;124m\"\u001b[39m)\u001b[38;5;66;03m# calculate mean absolute error on the ground truth (artificially-missing values)\u001b[39;00m\n\u001b[1;32m----> 5\u001b[0m \u001b[43mget_populatiaon_MAE_weighted\u001b[49m(SAITS, normalized, indicating_mask, \u001b[38;5;124m\"\u001b[39m\u001b[38;5;124mSAITS\u001b[39m\u001b[38;5;124m\"\u001b[39m) \u001b[38;5;66;03m# calculate mean absolute error on the ground truth (artificially-missing values)\u001b[39;00m\n\u001b[0;32m      6\u001b[0m get_population_MAE_weighted(imputed_ours, normalized, indicating_mask, \u001b[38;5;124m\"\u001b[39m\u001b[38;5;124mIGNITE\u001b[39m\u001b[38;5;124m\"\u001b[39m)\n",
      "\u001b[1;31mNameError\u001b[0m: name 'get_populatiaon_MAE_weighted' is not defined"
     ]
    }
   ],
   "source": [
    "get_population_MAE_weighted(LOCV, normalized, indicating_mask, \"LOCF\") \n",
    "get_population_MAE_weighted(mean_imputed, normalized, indicating_mask, \"mean\") # calculate mean absolute error on the ground truth (artificially-missing values)\n",
    "get_population_MAE_weighted(MICE, normalized, indicating_mask, \"mice\") # calculate mean absolute error on the ground truth (artificially-missing values)\n",
    "get_population_MAE_weighted(BRITS, normalized, indicating_mask, \"BRITS\")# calculate mean absolute error on the ground truth (artificially-missing values)\n"
   ]
  },
  {
   "cell_type": "code",
   "execution_count": 20,
   "id": "7b0866e5",
   "metadata": {},
   "outputs": [
    {
     "name": "stdout",
     "output_type": "stream",
     "text": [
      "IGNITE lower 0.050088197667687163\n"
     ]
    }
   ],
   "source": [
    "get_population_MAE_weighted(imputed_ours2, normalized, indicating_mask, \"IGNITE lower\")# calculate mean absolute error on the ground truth (artificially-missing values)\n"
   ]
  },
  {
   "cell_type": "code",
   "execution_count": 22,
   "id": "f9a8a52a",
   "metadata": {},
   "outputs": [
    {
     "name": "stdout",
     "output_type": "stream",
     "text": [
      "SAITS 0.0025681972850893986\n",
      "IGNITE 0.13807257665749245\n"
     ]
    }
   ],
   "source": [
    "get_population_MAE_weighted(SAITS, normalized, indicating_mask, \"SAITS\") # calculate mean absolute error on the ground truth (artificially-missing values)\n",
    "get_population_MAE_weighted(imputed_ours, normalized, indicating_mask, \"IGNITE\") # cl"
   ]
  },
  {
   "cell_type": "code",
   "execution_count": null,
   "id": "7114860d",
   "metadata": {},
   "outputs": [],
   "source": [
    "get_population_RMSE_weighted(LOCV, normalized, indicating_mask, \"LOCF\") \n",
    "get_population_RMSE_weighted(mean_imputed, normalized, indicating_mask, \"mean\") # calculate mean absolute error on the ground truth (artificially-missing values)\n",
    "get_population_RMSE_weighted(MICE, normalized, indicating_mask, \"mice\") # calculate mean absolute error on the ground truth (artificially-missing values)\n",
    "get_population_RMSE_weighted(BRITS, normalized, indicating_mask, \"BRITS\")# calculate mean absolute error on the ground truth (artificially-missing values)\n",
    "get_population_RMSE_weighted(SAITS, normalized, indicating_mask, \"SAITS\") # calculate mean absolute error on the ground truth (artificially-missing values)\n",
    "get_population_RMSE_weighted(imputed_ours, normalized, indicating_mask, \"IGNITE\") # cl"
   ]
  },
  {
   "cell_type": "code",
   "execution_count": null,
   "id": "71778688",
   "metadata": {},
   "outputs": [],
   "source": []
  },
  {
   "cell_type": "code",
   "execution_count": null,
   "id": "e6bba235",
   "metadata": {},
   "outputs": [],
   "source": [
    "get_population_MSE_weighted(LOCV, normalized, indicating_mask, \"LOCF\") \n",
    "get_population_MSE_weighted(mean_imputed, normalized, indicating_mask, \"mean\") # calculate mean absolute error on the ground truth (artificially-missing values)\n",
    "get_population_MSE_weighted(MICE, normalized, indicating_mask, \"mice\") # calculate mean absolute error on the ground truth (artificially-missing values)\n",
    "get_population_MSE_weighted(BRITS, normalized, indicating_mask, \"BRITS\")# calculate mean absolute error on the ground truth (artificially-missing values)\n",
    "get_population_MSE_weighted(SAITS, normalized, indicating_mask, \"SAITS\") # calculate mean absolute error on the ground truth (artificially-missing values)\n",
    "get_population_MSE_weighted(imputed_ours, normalized, indicating_mask, \"IGNITE\") # cl"
   ]
  },
  {
   "cell_type": "code",
   "execution_count": null,
   "id": "17a3cf5a",
   "metadata": {},
   "outputs": [],
   "source": [
    "# def get_population_RMSE_weighted(imputation,observed, indicating_mask, name):\n",
    "#     array_RMSE = []\n",
    "#     array_weight =[]\n",
    "#     observed = np.where(np.isnan(observed), 0, observed)\n",
    "\n",
    "#     for count in range(imputation.shape[0]):\n",
    "#          selected = indicating_mask[count]\n",
    "#          w= (selected.sum())/(indicating_mask.sum())\n",
    "#          array_weight.append(w)\n",
    "#          if len(selected)> 0:\n",
    "#            mse=np.sum(np.square(imputation[count] - observed[count]) * selected) / (np.sum(selected) + 1e-9)\n",
    "#            rms=np.sqrt(mse)\n",
    "#          else:\n",
    "#              rms = 0.0\n",
    "#          array_RMSE.append(rms*w)\n",
    "#     print(name, np.sum(array_RMSE))"
   ]
  },
  {
   "cell_type": "code",
   "execution_count": 80,
   "id": "c4a28f71",
   "metadata": {},
   "outputs": [
    {
     "data": {
      "text/plain": [
       "array([0.267462015, 0.265432656, 0.280000001, 0.296666652, 0.189999998,\n",
       "       0.256423354, 0.310000002, 0.293333322, 0.340000004, 0.353333324,\n",
       "       0.403333336, 0.353333324, 0.409999996, 0.343333334, 0.356666654,\n",
       "       0.336666673, 0.340000004, 0.250196338, 0.250149906, 0.323333323])"
      ]
     },
     "execution_count": 80,
     "metadata": {},
     "output_type": "execute_result"
    }
   ],
   "source": [
    "imputed_ours_oo[10,:20,1]"
   ]
  },
  {
   "cell_type": "code",
   "execution_count": 81,
   "id": "7f95d5c1",
   "metadata": {},
   "outputs": [
    {
     "data": {
      "text/plain": [
       "array([0.235224307, 0.265464514, 0.280000001, 0.296666652, 0.189999998,\n",
       "       0.264504522, 0.310000002, 0.293333322, 0.340000004, 0.353333324,\n",
       "       0.403333336, 0.353333324, 0.409999996, 0.343333334, 0.356666654,\n",
       "       0.336666673, 0.340000004, 0.256831676, 0.256266147, 0.323333323])"
      ]
     },
     "execution_count": 81,
     "metadata": {},
     "output_type": "execute_result"
    }
   ],
   "source": [
    "imputed_ours[10,:20,1]"
   ]
  },
  {
   "cell_type": "code",
   "execution_count": 82,
   "id": "6364ed38",
   "metadata": {},
   "outputs": [
    {
     "data": {
      "text/plain": [
       "array([0.833333333, 0.833333333, 1.         , 1.         , 1.         ,\n",
       "       0.833333333, 1.         , 1.         , 1.         , 1.         ,\n",
       "       1.         , 1.         , 1.         , 1.         , 1.         ,\n",
       "       1.         , 1.         , 0.833333333, 0.833333333, 1.         ])"
      ]
     },
     "execution_count": 82,
     "metadata": {},
     "output_type": "execute_result"
    }
   ],
   "source": [
    "#introduced \n",
    "IMM[10,:20,1]"
   ]
  },
  {
   "cell_type": "code",
   "execution_count": 83,
   "id": "411f883d",
   "metadata": {},
   "outputs": [
    {
     "data": {
      "text/plain": [
       "array([        nan, 0.323333333, 0.28       , 0.296666667, 0.19       ,\n",
       "       0.3        , 0.31       , 0.293333333, 0.34       , 0.353333333,\n",
       "       0.403333333, 0.353333333, 0.41       , 0.343333333, 0.356666667,\n",
       "       0.336666667, 0.34       , 0.32       , 0.343333333, 0.323333333])"
      ]
     },
     "execution_count": 83,
     "metadata": {},
     "output_type": "execute_result"
    }
   ],
   "source": [
    "normalized[10,:20,1]"
   ]
  },
  {
   "cell_type": "code",
   "execution_count": null,
   "id": "81f8ad17",
   "metadata": {},
   "outputs": [],
   "source": []
  },
  {
   "cell_type": "code",
   "execution_count": null,
   "id": "2995c6a5",
   "metadata": {},
   "outputs": [],
   "source": []
  }
 ],
 "metadata": {
  "kernelspec": {
   "display_name": "Python 3 (ipykernel)",
   "language": "python",
   "name": "python3"
  },
  "language_info": {
   "codemirror_mode": {
    "name": "ipython",
    "version": 3
   },
   "file_extension": ".py",
   "mimetype": "text/x-python",
   "name": "python",
   "nbconvert_exporter": "python",
   "pygments_lexer": "ipython3",
   "version": "3.9.13"
  }
 },
 "nbformat": 4,
 "nbformat_minor": 5
}
