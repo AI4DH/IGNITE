{
 "cells": [
  {
   "cell_type": "code",
   "execution_count": null,
   "id": "ad15df68",
   "metadata": {},
   "outputs": [],
   "source": [
    "import os\n",
    "import numpy as np\n",
    "import dill\n",
    "import pickle\n",
    "from bottleneck import push\n",
    "from fancyimpute import IterativeImputer\n",
    "from miss_utils import *"
   ]
  },
  {
   "cell_type": "code",
   "execution_count": null,
   "id": "8523565d",
   "metadata": {},
   "outputs": [],
   "source": [
    "data_path = 'extracts/'\n",
    "with open(os.path.join(data_path, '3d_tensor_set_a.pkl'), 'rb') as f:\n",
    "    origional_a = pickle.load(f)\n",
    "    \n",
    "with open(os.path.join(data_path, '3d_tensor_set_b.pkl'), 'rb') as f:\n",
    "    origional_b = pickle.load(f)    \n",
    "\n",
    "with open(os.path.join(data_path, '3d_tensor_set_c.pkl'), 'rb') as f:\n",
    "    origional_c = pickle.load(f)\n",
    "    \n",
    "origional = np.vstack([origional_a,origional_b,origional_c]) \n",
    "mask=~np.isnan(origional)*1"
   ]
  },
  {
   "cell_type": "code",
   "execution_count": null,
   "id": "0e7ab16a",
   "metadata": {},
   "outputs": [],
   "source": [
    "\n",
    "mins = []\n",
    "maxs = []\n",
    "flatten= origional.reshape(origional.shape[0]*origional.shape[1], origional.shape[2])\n",
    "\n",
    "for i in range(origional.shape[2]):\n",
    "\n",
    "        mins.append(np.nanmin(flatten[:,i]))\n",
    "\n",
    "        maxs.append(np.nanmax(flatten[:,i]))\n",
    "\n",
    "normalized =normalize(origional,mins,maxs)"
   ]
  },
  {
   "cell_type": "markdown",
   "id": "27f220ce",
   "metadata": {},
   "source": [
    "Patient level introduce"
   ]
  },
  {
   "cell_type": "code",
   "execution_count": null,
   "id": "6277b370",
   "metadata": {},
   "outputs": [],
   "source": [
    "seed = 1234\n",
    "new_tensor, o,miss_indices=array_rsme(normalized,mask, 0.1, seed)\n",
    "LO =push(new_tensor, axis=1)\n",
    "LOCV= np.where(np.isnan(LO), 0, LO)\n",
    "zero= np.where(np.isnan(new_tensor), 0, new_tensor)\n",
    "means, stds = [],[]\n",
    "flatten= new_tensor.reshape(origional.shape[0]*origional.shape[1], 35)\n",
    "\n",
    "for i in range(35):\n",
    "    means.append(np.nanmean(flatten[:,i]))\n",
    "    stds.append(np.nanstd(flatten[:,i]))\n",
    "mean_imputed =mean_fill(new_tensor, means)\n",
    "mask_miss=~np.isnan(new_tensor)*1\n",
    "imputed=prepare_fills(new_tensor, means)\n",
    "IMM= create_individualized_missingness_mask(mask_miss)"
   ]
  },
  {
   "cell_type": "code",
   "execution_count": null,
   "id": "615e72b8",
   "metadata": {},
   "outputs": [],
   "source": [
    "# with open('extracts/X_0.1_'+str(seed)+'.pkl', 'wb') as outfile:\n",
    "#     dill.dump(new_tensor, outfile, pickle.HIGHEST_PROTOCOL)  \n",
    "# with open('extracts/new_miss_oo_0.1_'+str(seed)+'.pkl', 'wb') as outfile:\n",
    "#     dill.dump(zero, outfile, pickle.HIGHEST_PROTOCOL) \n",
    "# with open('extracts/new_miss_0.1_back_forward_'+str(seed)+'.pkl', 'wb') as outfile:\n",
    "#     dill.dump(imputed, outfile, pickle.HIGHEST_PROTOCOL) \n",
    "# with open('extracts/mask_miss_0.1_'+str(seed)+'.pkl', 'wb') as outfile:\n",
    "#     dill.dump(mask_miss, outfile, pickle.HIGHEST_PROTOCOL)  \n",
    "# with open('extracts/IMM_0.1_'+str(seed)+'.pkl', 'wb') as outfile:\n",
    "#     dill.dump(IMM, outfile, pickle.HIGHEST_PROTOCOL)  "
   ]
  },
  {
   "cell_type": "code",
   "execution_count": null,
   "id": "7dd51ed4",
   "metadata": {},
   "outputs": [],
   "source": [
    "mice_impute = IterativeImputer()\n",
    "flatten= new_tensor.reshape(new_tensor.shape[0]*new_tensor.shape[1], new_tensor.shape[2])\n",
    "MICE = mice_impute.fit_transform(flatten)\n",
    "MICE=MICE.reshape(new_tensor.shape[0], new_tensor.shape[1], new_tensor.shape[2])\n",
    "MICE =MICE.copy()"
   ]
  },
  {
   "cell_type": "code",
   "execution_count": null,
   "id": "29079742",
   "metadata": {},
   "outputs": [],
   "source": [
    "experiment_name = \"IMM_population_1234_01\"\n",
    "saved_path = 'data/'\n",
    "observed_only_real = np.load(saved_path + experiment_name + '.npz')[\"observed_only_real\"]\n",
    "observed_only_rec = np.load(saved_path + experiment_name + '.npz')[\"observed_only_rec\"]\n",
    "IMM_real = np.load(saved_path + experiment_name + '.npz')[\"IMM_real\"]\n",
    "IMM_rec = np.load(saved_path + experiment_name + '.npz')[\"IMM_rec\"]\n",
    "imputed_ours =(mask_miss * (zero)+ ((1-mask_miss) *IMM_rec))\n",
    "GP = np.load(\"GP_0.1.npy\")\n",
    "GP_ =(mask_miss * (zero)+ ((1-mask_miss) *GP))\n",
    "\n",
    "with open(os.path.join('SAITS_01_miss_ratio.pkl'), 'rb') as f:\n",
    "           SAITS = pickle.load(f)    \n",
    "with open(os.path.join('BRITS_01_miss_ratio.pkl'), 'rb') as f:\n",
    "            BRITS = pickle.load(f)  "
   ]
  },
  {
   "cell_type": "code",
   "execution_count": null,
   "id": "e4b08aa8",
   "metadata": {},
   "outputs": [],
   "source": [
    "imputed_ours =(mask_miss * (zero)+ ((1-mask_miss) *observed_only_rec))"
   ]
  },
  {
   "cell_type": "code",
   "execution_count": null,
   "id": "959c3777",
   "metadata": {},
   "outputs": [],
   "source": [
    "MICE =MICE.copy()"
   ]
  },
  {
   "cell_type": "code",
   "execution_count": null,
   "id": "e4a193c7",
   "metadata": {},
   "outputs": [],
   "source": [
    "flat= np.zeros((12000,48,35)).reshape(-1)\n",
    "flat[miss_indices] = 1\n",
    "indicating_mask=flat.reshape(12000,48,35)\n"
   ]
  },
  {
   "cell_type": "code",
   "execution_count": null,
   "id": "0d9f4cdf",
   "metadata": {},
   "outputs": [],
   "source": [
    "print(\"MAE\")\n",
    "print(\"----------------------\")\n",
    "get_patient_level_MAE_array(LOCV, normalized, indicating_mask, \"LOCF\") # calculate mean absolute error on the ground truth (artificially-missing values)\n",
    "get_patient_level_MAE_array(mean_imputed, normalized, indicating_mask, \"mean\") # calculate mean absolute error on the ground truth (artificially-missing values)\n",
    "get_patient_level_MAE_array(MICE, normalized, indicating_mask, \"mice\") # calculate mean absolute error on the ground truth (artificially-missing values)\n",
    "get_patient_level_MAE_array(BRITS, normalized, indicating_mask, \"BRITS\")# calculate mean absolute error on the ground truth (artificially-missing values)\n",
    "get_patient_level_MAE_array(SAITS, normalized, indicating_mask, \"SAITS\") # calculate mean absolute error on the ground truth (artificially-missing values)\n",
    "get_patient_level_MAE_array(imputed_ours, normalized, indicating_mask, \"IGNITE\") # calculate mean absolute error on the ground truth (artificially-missing values)"
   ]
  },
  {
   "cell_type": "code",
   "execution_count": null,
   "id": "5f957e5f",
   "metadata": {},
   "outputs": [],
   "source": [
    "print(\"RMSE\")\n",
    "print(\"----------------------\")\n",
    "get_patient_level_RMSE_array(LOCV, normalized, indicating_mask, \"LOCF\") # calculate mean absolute error on the ground truth (artificially-missing values)\n",
    "get_patient_level_RMSE_array(mean_imputed, normalized, indicating_mask, \"mean\") # calculate mean absolute error on the ground truth (artificially-missing values)\n",
    "get_patient_level_RMSE_array(MICE, normalized, indicating_mask, \"mice\") # calculate mean absolute error on the ground truth (artificially-missing values)\n",
    "get_patient_level_RMSE_array(BRITS, normalized, indicating_mask, \"BRITS\")# calculate mean absolute error on the ground truth (artificially-missing values)\n",
    "get_patient_level_RMSE_array(SAITS, normalized, indicating_mask, \"SAITS\") # calculate mean absolute error on the ground truth (artificially-missing values)\n",
    "get_patient_level_RMSE_array(imputed_ours, normalized, indicating_mask, \"IGNITE \") # cl"
   ]
  },
  {
   "cell_type": "code",
   "execution_count": null,
   "id": "2f6c282b",
   "metadata": {},
   "outputs": [],
   "source": [
    "print(\"MSE\")\n",
    "print(\"----------------------\")\n",
    "get_patient_level_MSE_array(LOCV, normalized, indicating_mask, \"LOCF\") \n",
    "get_patient_level_MSE_array(mean_imputed, normalized, indicating_mask, \"mean\") # calculate mean absolute error on the ground truth (artificially-missing values)\n",
    "get_patient_level_MSE_array(MICE, normalized, indicating_mask, \"mice\") # calculate mean absolute error on the ground truth (artificially-missing values)\n",
    "get_patient_level_MSE_array(BRITS, normalized, indicating_mask, \"BRITS\")# calculate mean absolute error on the ground truth (artificially-missing values)\n",
    "get_patient_level_MSE_array(SAITS, normalized, indicating_mask, \"SAITS\") # calculate mean absolute error on the ground truth (artificially-missing values)\n",
    "get_patient_level_MSE_array(imputed_ours, normalized, indicating_mask, \"IGNITE\") # cl"
   ]
  },
  {
   "cell_type": "markdown",
   "id": "6b0bc58a",
   "metadata": {},
   "source": [
    "Calculate Population level sum"
   ]
  },
  {
   "cell_type": "code",
   "execution_count": null,
   "id": "81bc5b11",
   "metadata": {},
   "outputs": [],
   "source": [
    "get_population_RMSE(LOCV, normalized, indicating_mask, \"LOCF\") \n",
    "get_population_RMSE(mean_imputed, normalized, indicating_mask, \"mean\") # calculate mean absolute error on the ground truth (artificially-missing values)\n",
    "get_population_RMSE(MICE, normalized, indicating_mask, \"mice\") # calculate mean absolute error on the ground truth (artificially-missing values)\n",
    "get_population_RMSE(BRITS, normalized, indicating_mask, \"BRITS\")# calculate mean absolute error on the ground truth (artificially-missing values)\n",
    "get_population_RMSE(SAITS, normalized, indicating_mask, \"SAITS\") # calculate mean absolute error on the ground truth (artificially-missing values)\n",
    "get_population_RMSE(imputed_ours, normalized, indicating_mask, \"IGNITE\") # cl"
   ]
  },
  {
   "cell_type": "code",
   "execution_count": null,
   "id": "a3530f9d",
   "metadata": {},
   "outputs": [],
   "source": [
    "get_population_MSE(LOCV, normalized, indicating_mask, \"LOCF\") \n",
    "get_population_MSE(mean_imputed, normalized, indicating_mask, \"mean\") # calculate mean absolute error on the ground truth (artificially-missing values)\n",
    "get_population_MSE(MICE, normalized, indicating_mask, \"mice\") # calculate mean absolute error on the ground truth (artificially-missing values)\n",
    "get_population_MSE(BRITS, normalized, indicating_mask, \"BRITS\")# calculate mean absolute error on the ground truth (artificially-missing values)\n",
    "get_population_MSE(SAITS, normalized, indicating_mask, \"SAITS\") # calculate mean absolute error on the ground truth (artificially-missing values)\n",
    "get_population_MSE(imputed_ours, normalized, indicating_mask, \"IGNITE\") # c"
   ]
  },
  {
   "cell_type": "code",
   "execution_count": null,
   "id": "808425e2",
   "metadata": {},
   "outputs": [],
   "source": [
    "get_population_MAE(LOCV, normalized, indicating_mask, \"LOCF\") \n",
    "get_population_MAE(mean_imputed, normalized, indicating_mask, \"mean\") # calculate mean absolute error on the ground truth (artificially-missing values)\n",
    "get_population_MAE(MICE, normalized, indicating_mask, \"mice\") # calculate mean absolute error on the ground truth (artificially-missing values)\n",
    "get_population_MAE(BRITS, normalized, indicating_mask, \"BRITS\")# calculate mean absolute error on the ground truth (artificially-missing values)\n",
    "get_population_MAE(SAITS, normalized, indicating_mask, \"SAITS\") # calculate mean absolute error on the ground truth (artificially-missing values)\n",
    "get_population_MAE(imputed_ours, normalized, indicating_mask, \"IGNITE\") # cl"
   ]
  },
  {
   "cell_type": "markdown",
   "id": "da39696e",
   "metadata": {},
   "source": [
    "get weighted population sum"
   ]
  },
  {
   "cell_type": "code",
   "execution_count": null,
   "id": "fd73e249",
   "metadata": {
    "scrolled": true
   },
   "outputs": [],
   "source": [
    "get_population_MAE_weighted(LOCV, normalized, indicating_mask, \"LOCF\") \n",
    "get_population_MAE_weighted(mean_imputed, normalized, indicating_mask, \"mean\") # calculate mean absolute error on the ground truth (artificially-missing values)\n",
    "get_population_MAE_weighted(MICE, normalized, indicating_mask, \"mice\") # calculate mean absolute error on the ground truth (artificially-missing values)\n",
    "get_population_MAE_weighted(BRITS, normalized, indicating_mask, \"BRITS\")# calculate mean absolute error on the ground truth (artificially-missing values)\n"
   ]
  },
  {
   "cell_type": "code",
   "execution_count": null,
   "id": "7b0866e5",
   "metadata": {},
   "outputs": [],
   "source": [
    "get_population_MAE_weighted(imputed_ours2, normalized, indicating_mask, \"IGNITE lower\")# calculate mean absolute error on the ground truth (artificially-missing values)\n"
   ]
  },
  {
   "cell_type": "code",
   "execution_count": null,
   "id": "f9a8a52a",
   "metadata": {},
   "outputs": [],
   "source": [
    "get_population_MAE_weighted(SAITS, normalized, indicating_mask, \"SAITS\") # calculate mean absolute error on the ground truth (artificially-missing values)\n",
    "get_population_MAE_weighted(imputed_ours, normalized, indicating_mask, \"IGNITE\") # cl"
   ]
  },
  {
   "cell_type": "code",
   "execution_count": null,
   "id": "7114860d",
   "metadata": {},
   "outputs": [],
   "source": [
    "get_population_RMSE_weighted(LOCV, normalized, indicating_mask, \"LOCF\") \n",
    "get_population_RMSE_weighted(mean_imputed, normalized, indicating_mask, \"mean\") # calculate mean absolute error on the ground truth (artificially-missing values)\n",
    "get_population_RMSE_weighted(MICE, normalized, indicating_mask, \"mice\") # calculate mean absolute error on the ground truth (artificially-missing values)\n",
    "get_population_RMSE_weighted(BRITS, normalized, indicating_mask, \"BRITS\")# calculate mean absolute error on the ground truth (artificially-missing values)\n",
    "get_population_RMSE_weighted(SAITS, normalized, indicating_mask, \"SAITS\") # calculate mean absolute error on the ground truth (artificially-missing values)\n",
    "get_population_RMSE_weighted(imputed_ours, normalized, indicating_mask, \"IGNITE\") # cl"
   ]
  },
  {
   "cell_type": "code",
   "execution_count": null,
   "id": "71778688",
   "metadata": {},
   "outputs": [],
   "source": []
  },
  {
   "cell_type": "code",
   "execution_count": null,
   "id": "e6bba235",
   "metadata": {},
   "outputs": [],
   "source": [
    "get_population_MSE_weighted(LOCV, normalized, indicating_mask, \"LOCF\") \n",
    "get_population_MSE_weighted(mean_imputed, normalized, indicating_mask, \"mean\") # calculate mean absolute error on the ground truth (artificially-missing values)\n",
    "get_population_MSE_weighted(MICE, normalized, indicating_mask, \"mice\") # calculate mean absolute error on the ground truth (artificially-missing values)\n",
    "get_population_MSE_weighted(BRITS, normalized, indicating_mask, \"BRITS\")# calculate mean absolute error on the ground truth (artificially-missing values)\n",
    "get_population_MSE_weighted(SAITS, normalized, indicating_mask, \"SAITS\") # calculate mean absolute error on the ground truth (artificially-missing values)\n",
    "get_population_MSE_weighted(imputed_ours, normalized, indicating_mask, \"IGNITE\") # cl"
   ]
  },
  {
   "cell_type": "code",
   "execution_count": null,
   "id": "17a3cf5a",
   "metadata": {},
   "outputs": [],
   "source": [
    "# def get_population_RMSE_weighted(imputation,observed, indicating_mask, name):\n",
    "#     array_RMSE = []\n",
    "#     array_weight =[]\n",
    "#     observed = np.where(np.isnan(observed), 0, observed)\n",
    "\n",
    "#     for count in range(imputation.shape[0]):\n",
    "#          selected = indicating_mask[count]\n",
    "#          w= (selected.sum())/(indicating_mask.sum())\n",
    "#          array_weight.append(w)\n",
    "#          if len(selected)> 0:\n",
    "#            mse=np.sum(np.square(imputation[count] - observed[count]) * selected) / (np.sum(selected) + 1e-9)\n",
    "#            rms=np.sqrt(mse)\n",
    "#          else:\n",
    "#              rms = 0.0\n",
    "#          array_RMSE.append(rms*w)\n",
    "#     print(name, np.sum(array_RMSE))"
   ]
  },
  {
   "cell_type": "code",
   "execution_count": null,
   "id": "c4a28f71",
   "metadata": {},
   "outputs": [],
   "source": [
    "imputed_ours_oo[10,:20,1]"
   ]
  },
  {
   "cell_type": "code",
   "execution_count": null,
   "id": "7f95d5c1",
   "metadata": {},
   "outputs": [],
   "source": [
    "imputed_ours[10,:20,1]"
   ]
  },
  {
   "cell_type": "code",
   "execution_count": null,
   "id": "6364ed38",
   "metadata": {},
   "outputs": [],
   "source": [
    "#introduced \n",
    "IMM[10,:20,1]"
   ]
  },
  {
   "cell_type": "code",
   "execution_count": null,
   "id": "411f883d",
   "metadata": {},
   "outputs": [],
   "source": [
    "normalized[10,:20,1]"
   ]
  },
  {
   "cell_type": "code",
   "execution_count": null,
   "id": "81f8ad17",
   "metadata": {},
   "outputs": [],
   "source": []
  },
  {
   "cell_type": "code",
   "execution_count": null,
   "id": "2995c6a5",
   "metadata": {},
   "outputs": [],
   "source": []
  }
 ],
 "metadata": {
  "kernelspec": {
   "display_name": "Python 3 (ipykernel)",
   "language": "python",
   "name": "python3"
  },
  "language_info": {
   "codemirror_mode": {
    "name": "ipython",
    "version": 3
   },
   "file_extension": ".py",
   "mimetype": "text/x-python",
   "name": "python",
   "nbconvert_exporter": "python",
   "pygments_lexer": "ipython3",
   "version": "3.9.13"
  }
 },
 "nbformat": 4,
 "nbformat_minor": 5
}
