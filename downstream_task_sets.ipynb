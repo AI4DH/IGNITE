{
 "cells": [
  {
   "cell_type": "code",
   "execution_count": 3,
   "id": "b79f1396",
   "metadata": {},
   "outputs": [
    {
     "name": "stderr",
     "output_type": "stream",
     "text": [
      "Intel(R) Extension for Scikit-learn* enabled (https://github.com/intel/scikit-learn-intelex)\n"
     ]
    }
   ],
   "source": [
    "import pandas as pd\n",
    "import numpy as np\n",
    "import os\n",
    "import pickle\n",
    "from bottleneck import push\n",
    "import dill\n",
    "from downstream_eval import *"
   ]
  },
  {
   "cell_type": "code",
   "execution_count": 5,
   "id": "00caeaad",
   "metadata": {},
   "outputs": [],
   "source": [
    "# Load mask\n",
    "data_path = 'extracts/'\n",
    "with open(os.path.join(data_path, 'mask_combined.pkl'), 'rb') as f:\n",
    "    mask = pickle.load(f)\n",
    "with open(os.path.join(data_path, 'normalized_combined.pkl'), 'rb') as f:\n",
    "    normalized = pickle.load(f)\n",
    "with open(os.path.join(data_path, 'out_combined.pkl'), 'rb') as f:\n",
    "        outcomes = pickle.load(f)"
   ]
  },
  {
   "cell_type": "markdown",
   "id": "c1096a9e",
   "metadata": {},
   "source": [
    "Getting the quantile splits for percent missingness in the population\n",
    "default are the top 25%, 25-75\\%, and greater than 75\\%\n"
   ]
  },
  {
   "cell_type": "code",
   "execution_count": 6,
   "id": "42dbf892",
   "metadata": {},
   "outputs": [],
   "source": [
    "lower_sample,top_sample,lower_feat,top_feat = miss_get_quantiles(mask, 0.25, 0.75)"
   ]
  },
  {
   "cell_type": "markdown",
   "id": "ff562ee0",
   "metadata": {},
   "source": [
    "Get data splits for each of the sample-wise missingness experiments"
   ]
  },
  {
   "cell_type": "code",
   "execution_count": 8,
   "id": "c513c3ba",
   "metadata": {},
   "outputs": [
    {
     "name": "stdout",
     "output_type": "stream",
     "text": [
      "Number of Included Samples 3043\n",
      "Number of Positive Samples 338\n",
      "###########\n",
      "Number of Included Samples 6013\n",
      "Number of Positive Samples 814\n",
      "###########\n",
      "Number of Included Samples 2944\n",
      "Number of Positive Samples 555\n"
     ]
    }
   ],
   "source": [
    "data,label=get_sets_sample_missingess(normalized,outcomes,miss,top_sample, 1.1)\n",
    "print(\"###########\")\n",
    "data,label=get_sets_sample_missingess(normalized,outcomes,miss,lower_sample,top_sample)\n",
    "print(\"###########\")\n",
    "data,label=get_sets_sample_missingess(normalized,outcomes,miss,0,lower_sample )"
   ]
  },
  {
   "cell_type": "markdown",
   "id": "8f557dc4",
   "metadata": {},
   "source": [
    "Get data splits for each of the feature-wise missingness experiments"
   ]
  },
  {
   "cell_type": "code",
   "execution_count": 9,
   "id": "c29d6118",
   "metadata": {},
   "outputs": [
    {
     "name": "stdout",
     "output_type": "stream",
     "text": [
      "Number of Included Samples 3833\n",
      "Number of Positive Samples 333\n",
      "###########\n",
      "Number of Included Samples 5198\n",
      "Number of Positive Samples 667\n",
      "###########\n",
      "Number of Included Samples 2969\n",
      "Number of Positive Samples 707\n"
     ]
    }
   ],
   "source": [
    "data,label=get_sets_feature_missingess(normalized,outcomes,miss,top_feat, 1.1)\n",
    "print(\"###########\")\n",
    "data,label=get_sets_feature_missingess(normalized,outcomes,miss,lower_feat,top_feat )\n",
    "print(\"###########\")\n",
    "data,label=get_sets_feature_missingess(normalized,outcomes,miss,0,lower_feat )"
   ]
  },
  {
   "cell_type": "code",
   "execution_count": null,
   "id": "eeb3648d",
   "metadata": {},
   "outputs": [],
   "source": []
  }
 ],
 "metadata": {
  "kernelspec": {
   "display_name": "Python 3 (ipykernel)",
   "language": "python",
   "name": "python3"
  },
  "language_info": {
   "codemirror_mode": {
    "name": "ipython",
    "version": 3
   },
   "file_extension": ".py",
   "mimetype": "text/x-python",
   "name": "python",
   "nbconvert_exporter": "python",
   "pygments_lexer": "ipython3",
   "version": "3.9.13"
  }
 },
 "nbformat": 4,
 "nbformat_minor": 5
}
