{
 "cells": [
  {
   "cell_type": "code",
   "execution_count": 1,
   "id": "ad15df68",
   "metadata": {},
   "outputs": [],
   "source": [
    "import os\n",
    "import numpy as np\n",
    "import dill\n",
    "import pickle\n",
    "from bottleneck import push\n",
    "from fancyimpute import IterativeImputer\n",
    "from miss_utils import *"
   ]
  },
  {
   "cell_type": "code",
   "execution_count": 2,
   "id": "8523565d",
   "metadata": {},
   "outputs": [],
   "source": [
    "data_path = 'extracts/'\n",
    "with open(os.path.join(data_path, '3d_tensor_set_a.pkl'), 'rb') as f:\n",
    "    origional_a = pickle.load(f)\n",
    "    \n",
    "with open(os.path.join(data_path, '3d_tensor_set_b.pkl'), 'rb') as f:\n",
    "    origional_b = pickle.load(f)    \n",
    "\n",
    "with open(os.path.join(data_path, '3d_tensor_set_c.pkl'), 'rb') as f:\n",
    "    origional_c = pickle.load(f)\n",
    "    \n",
    "origional = np.vstack([origional_a,origional_b,origional_c]) \n",
    "mask=~np.isnan(origional)*1"
   ]
  },
  {
   "cell_type": "code",
   "execution_count": 3,
   "id": "0e7ab16a",
   "metadata": {},
   "outputs": [],
   "source": [
    "\n",
    "mins = []\n",
    "maxs = []\n",
    "flatten= origional.reshape(origional.shape[0]*origional.shape[1], origional.shape[2])\n",
    "\n",
    "for i in range(origional.shape[2]):\n",
    "\n",
    "        mins.append(np.nanmin(flatten[:,i]))\n",
    "\n",
    "        maxs.append(np.nanmax(flatten[:,i]))\n",
    "\n",
    "normalized =normalize(origional,mins,maxs)"
   ]
  },
  {
   "cell_type": "code",
   "execution_count": 4,
   "id": "4c0111dc",
   "metadata": {},
   "outputs": [],
   "source": [
    "\n",
    "# cols\tSample\tfeat\n",
    "# 0\tALP\t98.363715\t57.525000\n",
    "# 4\tLactate\t95.886458\t45.200000\n",
    "# 9\tAlbumin\t98.743229\t59.416667\n",
    "# 10\tALT\t98.316840\t56.558333\n",
    "# 12\tSaO2\t95.985590\t55.275000\n",
    "# 14\tAST\t98.316667\t56.550000\n",
    "# 15\tBilirubin\t98.299826\t56.550000\n",
    "# 24\tCholesterol\t99.827431\t92.100000\n",
    "# 26\tTroponinT\t98.915451\t78.025000\n",
    "# 28\tTroponinI\t99.796181\t95.291667"
   ]
  },
  {
   "cell_type": "markdown",
   "id": "27f220ce",
   "metadata": {},
   "source": [
    "Patient level introduce"
   ]
  },
  {
   "cell_type": "code",
   "execution_count": 5,
   "id": "6277b370",
   "metadata": {},
   "outputs": [],
   "source": [
    "seed = 1234\n",
    "select_cols= [1,2,20,27,31]\n",
    "#select_cols= [15,10,9,14,26]\n",
    "\n",
    "new_tensor, miss_indices, indicating_mask=introduce_miss_cols(normalized,mask, 0.5, 1243, select_cols)\n",
    "LO =push(new_tensor, axis=1)\n",
    "LOCV= np.where(np.isnan(LO), 0, LO)\n",
    "zero= np.where(np.isnan(new_tensor), 0, new_tensor)\n",
    "means, stds = [],[]\n",
    "flatten= new_tensor.reshape(origional.shape[0]*origional.shape[1], 35)\n",
    "for i in range(35):\n",
    "    means.append(np.nanmean(flatten[:,i]))\n",
    "    stds.append(np.nanstd(flatten[:,i]))\n",
    "mean_imputed =mean_fill(new_tensor, means)\n",
    "mean_imputed =mean_fill(new_tensor, means)\n",
    "mask_miss=~np.isnan(new_tensor)*1\n",
    "imputed=prepare_fills(new_tensor, means)\n",
    "IMM= create_individualized_missingness_mask(mask_miss)"
   ]
  },
  {
   "cell_type": "code",
   "execution_count": 6,
   "id": "5f17f114",
   "metadata": {},
   "outputs": [
    {
     "data": {
      "text/plain": [
       "0.8510131448412699"
      ]
     },
     "execution_count": 6,
     "metadata": {},
     "output_type": "execute_result"
    }
   ],
   "source": [
    "cal_missing_rate(new_tensor)"
   ]
  },
  {
   "cell_type": "code",
   "execution_count": 7,
   "id": "615e72b8",
   "metadata": {},
   "outputs": [],
   "source": [
    "# with open('extracts/X_person_0.5_'+str(seed)+'_col_most.pkl', 'wb') as outfile:\n",
    "#     dill.dump(new_tensor, outfile, pickle.HIGHEST_PROTOCOL)  \n",
    "# with open('extracts/new__miss_oo_person_0.5_'+str(seed)+'_col_most.pkl', 'wb') as outfile:\n",
    "#     dill.dump(zero, outfile, pickle.HIGHEST_PROTOCOL) \n",
    "# with open('extracts/new__miss_0.5_person_back_forward_'+str(seed)+'_col_most.pkl', 'wb') as outfile:\n",
    "#     dill.dump(imputed, outfile, pickle.HIGHEST_PROTOCOL) \n",
    "# with open('extracts/mask_miss__person_0.5_'+str(seed)+'_col_most.pkl', 'wb') as outfile:\n",
    "#     dill.dump(mask_miss, outfile, pickle.HIGHEST_PROTOCOL)  \n",
    "# with open('extracts/IMM_person_0.5_'+str(seed)+'_col_most.pkl', 'wb') as outfile:\n",
    "#     dill.dump(IMM, outfile, pickle.HIGHEST_PROTOCOL)  "
   ]
  },
  {
   "cell_type": "code",
   "execution_count": 8,
   "id": "7dd51ed4",
   "metadata": {},
   "outputs": [],
   "source": [
    "mice_impute = IterativeImputer()\n",
    "flatten= new_tensor.reshape(new_tensor.shape[0]*new_tensor.shape[1], new_tensor.shape[2])\n",
    "MICE = mice_impute.fit_transform(flatten)\n",
    "MICE=MICE.reshape(new_tensor.shape[0], new_tensor.shape[1], new_tensor.shape[2])"
   ]
  },
  {
   "cell_type": "code",
   "execution_count": 9,
   "id": "29079742",
   "metadata": {},
   "outputs": [],
   "source": [
    "experiment_name = \"IMM_person_1234_05_most_col\"\n",
    "saved_path = 'data/'\n",
    "observed_only_real = np.load(saved_path + experiment_name + '.npz')[\"observed_only_real\"]\n",
    "observed_only_rec = np.load(saved_path + experiment_name + '.npz')[\"observed_only_rec\"]\n",
    "IMM_real = np.load(saved_path + experiment_name + '.npz')[\"IMM_real\"]\n",
    "IMM_rec = np.load(saved_path + experiment_name + '.npz')[\"IMM_rec\"]\n",
    "with open(os.path.join('SAITS_person_0.5_1234_col.pkl'), 'rb') as f:\n",
    "           SAITS = pickle.load(f)    \n",
    "with open(os.path.join('BRITS_person_0.5_1234_col.pkl'), 'rb') as f:\n",
    "            BRITS = pickle.load(f)  "
   ]
  },
  {
   "cell_type": "code",
   "execution_count": 10,
   "id": "9ce2b36a",
   "metadata": {},
   "outputs": [],
   "source": [
    "imputed_ours =(mask_miss * (zero)+ ((1-mask_miss) *IMM_rec))"
   ]
  },
  {
   "cell_type": "code",
   "execution_count": 11,
   "id": "994ff964",
   "metadata": {},
   "outputs": [],
   "source": [
    "X_intact= np.where(np.isnan(normalized), 0, normalized)"
   ]
  },
  {
   "cell_type": "code",
   "execution_count": 12,
   "id": "ac97bf00",
   "metadata": {},
   "outputs": [],
   "source": [
    "MICE =MICE.copy()"
   ]
  },
  {
   "cell_type": "code",
   "execution_count": 14,
   "id": "e4a193c7",
   "metadata": {},
   "outputs": [],
   "source": [
    "# flat= np.zeros((12000,48,35)).reshape(-1)\n",
    "# flat[miss_indices] = 1\n",
    "# indicating_mask=flat.reshape(12000,48,35)\n"
   ]
  },
  {
   "cell_type": "code",
   "execution_count": 15,
   "id": "c44459d4",
   "metadata": {},
   "outputs": [
    {
     "name": "stdout",
     "output_type": "stream",
     "text": [
      "MAE\n",
      "----------------------\n",
      "LOCF 0.0331666483423677 0.015123893346116524\n",
      "mean 0.03775553780912004 0.015719988040577663\n",
      "mice 0.0316631062622157 0.013212362442140186\n",
      "BRITS 0.017446398400448815 0.007133646518165361\n",
      "SAITS 0.019861214620670822 0.007505929147288343\n",
      "IGNITE 0.0939157434780144 0.044120796233078054\n"
     ]
    }
   ],
   "source": [
    "print(\"MAE\")\n",
    "print(\"----------------------\")\n",
    "get_patient_level_MAE_array(LOCV, normalized, indicating_mask, \"LOCF\") # calculate mean absolute error on the ground truth (artificially-missing values)\n",
    "get_patient_level_MAE_array(mean_imputed, normalized, indicating_mask, \"mean\") # calculate mean absolute error on the ground truth (artificially-missing values)\n",
    "get_patient_level_MAE_array(MICE, normalized, indicating_mask, \"mice\") # calculate mean absolute error on the ground truth (artificially-missing values)\n",
    "get_patient_level_MAE_array(BRITS, normalized, indicating_mask, \"BRITS\")# calculate mean absolute error on the ground truth (artificially-missing values)\n",
    "get_patient_level_MAE_array(SAITS, normalized, indicating_mask, \"SAITS\") # calculate mean absolute error on the ground truth (artificially-missing values)\n",
    "get_patient_level_MAE_array(imputed_ours, normalized, indicating_mask, \"IGNITE\") # clculate mean absolute error on the ground truth (artificially-missing values)"
   ]
  },
  {
   "cell_type": "code",
   "execution_count": 16,
   "id": "30207734",
   "metadata": {
    "scrolled": true
   },
   "outputs": [
    {
     "name": "stdout",
     "output_type": "stream",
     "text": [
      "RMSE\n",
      "----------------------\n",
      "LOCF 0.06627642262519275 0.03165544659760638\n",
      "mean 0.05091675177483586 0.020821288937780718\n",
      "mice 0.04444632279006252 0.018971898545788988\n",
      "BRITS 0.027156773673542925 0.014914918288044537\n",
      "SAITS 0.029680110940822582 0.01456770580739196\n",
      "IGNITE 0.11738609785773804 0.052309127510365434\n"
     ]
    }
   ],
   "source": [
    "print(\"RMSE\")\n",
    "print(\"----------------------\")\n",
    "get_patient_level_RMSE_array(LOCV, normalized, indicating_mask, \"LOCF\") \n",
    "get_patient_level_RMSE_array(mean_imputed, normalized, indicating_mask, \"mean\") # calculate mean absolute error on the ground truth (artificially-missing values)\n",
    "get_patient_level_RMSE_array(MICE, normalized, indicating_mask, \"mice\") # calculate mean absolute error on the ground truth (artificially-missing values)\n",
    "get_patient_level_RMSE_array(BRITS, normalized, indicating_mask, \"BRITS\")# calculate mean absolute error on the ground truth (artificially-missing values)\n",
    "get_patient_level_RMSE_array(SAITS, normalized, indicating_mask, \"SAITS\") # calculate mean absolute error on the ground truth (artificially-missing values)\n",
    "get_patient_level_RMSE_array(imputed_ours, normalized, indicating_mask, \"IGNITE\") # cl"
   ]
  },
  {
   "cell_type": "code",
   "execution_count": 17,
   "id": "c1924398",
   "metadata": {},
   "outputs": [
    {
     "name": "stdout",
     "output_type": "stream",
     "text": [
      "MSE\n",
      "----------------------\n",
      "LOCF 0.005394631495287069 0.004928006013963253\n",
      "mean 0.003026041684330799 0.00272463510231127\n",
      "mice 0.002335408543990141 0.002583505662761832\n",
      "BRITS 0.0009599451438950796 0.002041077389720743\n",
      "SAITS 0.0010931270379502581 0.0017828134786266286\n",
      "IGNITE 0.01651574079116212 0.014469133532862305\n"
     ]
    }
   ],
   "source": [
    "print(\"MSE\")\n",
    "print(\"----------------------\")\n",
    "get_patient_level_MSE_array(LOCV, normalized, indicating_mask, \"LOCF\") # calculate mean absolute error on the ground truth (artificially-missing values)\n",
    "get_patient_level_MSE_array(mean_imputed, normalized, indicating_mask, \"mean\") # calculate mean absolute error on the ground truth (artificially-missing values)\n",
    "get_patient_level_MSE_array(MICE, normalized, indicating_mask, \"mice\") # calculate mean absolute error on the ground truth (artificially-missing values)\n",
    "get_patient_level_MSE_array(BRITS, normalized, indicating_mask, \"BRITS\")# calculate mean absolute error on the ground truth (artificially-missing values)\n",
    "get_patient_level_MSE_array(SAITS, normalized, indicating_mask, \"SAITS\") # calculate mean absolute error on the ground truth (artificially-missing values)\n",
    "get_patient_level_MSE_array(imputed_ours, normalized, indicating_mask, \"IGNITE\") # calculate mean absolute error on the ground truth (artificially-missing values)"
   ]
  },
  {
   "cell_type": "markdown",
   "id": "bbf6e819",
   "metadata": {},
   "source": [
    "Calculate Population level sum"
   ]
  },
  {
   "cell_type": "code",
   "execution_count": 18,
   "id": "81bc5b11",
   "metadata": {},
   "outputs": [
    {
     "name": "stdout",
     "output_type": "stream",
     "text": [
      "LOCF 0.07535946823311\n",
      "mean 0.05583608587740615\n",
      "mice 0.04805691557191138\n",
      "BRITS 0.0316869179889283\n",
      "SAITS 0.03430170486683019\n",
      "IGNITE 0.13649728780721018\n"
     ]
    }
   ],
   "source": [
    "get_population_RMSE(LOCV, normalized, indicating_mask, \"LOCF\") \n",
    "get_population_RMSE(mean_imputed, normalized, indicating_mask, \"mean\") # calculate mean absolute error on the ground truth (artificially-missing values)\n",
    "get_population_RMSE(MICE, normalized, indicating_mask, \"mice\") # calculate mean absolute error on the ground truth (artificially-missing values)\n",
    "get_population_RMSE(BRITS, normalized, indicating_mask, \"BRITS\")# calculate mean absolute error on the ground truth (artificially-missing values)\n",
    "get_population_RMSE(SAITS, normalized, indicating_mask, \"SAITS\") # calculate mean absolute error on the ground truth (artificially-missing values)\n",
    "get_population_RMSE(imputed_ours, normalized, indicating_mask, \"IGNITE\") # cl"
   ]
  },
  {
   "cell_type": "code",
   "execution_count": 19,
   "id": "a3530f9d",
   "metadata": {},
   "outputs": [
    {
     "name": "stdout",
     "output_type": "stream",
     "text": [
      "LOCF 0.005679049452377116\n",
      "mean 0.0031176684861090745\n",
      "mice 0.0023094671342858185\n",
      "BRITS 0.001004060771637068\n",
      "SAITS 0.0011766069567711224\n",
      "IGNITE 0.01863150957872437\n"
     ]
    }
   ],
   "source": [
    "get_population_MSE(LOCV, normalized, indicating_mask, \"LOCF\") \n",
    "get_population_MSE(mean_imputed, normalized, indicating_mask, \"mean\") # calculate mean absolute error on the ground truth (artificially-missing values)\n",
    "get_population_MSE(MICE, normalized, indicating_mask, \"mice\") # calculate mean absolute error on the ground truth (artificially-missing values)\n",
    "get_population_MSE(BRITS, normalized, indicating_mask, \"BRITS\")# calculate mean absolute error on the ground truth (artificially-missing values)\n",
    "get_population_MSE(SAITS, normalized, indicating_mask, \"SAITS\") # calculate mean absolute error on the ground truth (artificially-missing values)\n",
    "get_population_MSE(imputed_ours, normalized, indicating_mask, \"IGNITE\") # cl"
   ]
  },
  {
   "cell_type": "code",
   "execution_count": 20,
   "id": "808425e2",
   "metadata": {},
   "outputs": [
    {
     "name": "stdout",
     "output_type": "stream",
     "text": [
      "LOCF 0.03512555191230592\n",
      "mean 0.038756004487510674\n",
      "mice 0.031546856330048285\n",
      "BRITS 0.018019893155283167\n",
      "SAITS 0.02099381447311427\n",
      "IGNITE 0.10246367619965814\n"
     ]
    }
   ],
   "source": [
    "\n",
    "#         return lib.sum(lib.abs(inputs - target) * mask) / (lib.sum(mask) + 1e-9)\n",
    "get_population_MAE(LOCV, normalized, indicating_mask, \"LOCF\") \n",
    "get_population_MAE(mean_imputed, normalized, indicating_mask, \"mean\") # calculate mean absolute error on the ground truth (artificially-missing values)\n",
    "get_population_MAE(MICE, normalized, indicating_mask, \"mice\") # calculate mean absolute error on the ground truth (artificially-missing values)\n",
    "get_population_MAE(BRITS, normalized, indicating_mask, \"BRITS\")# calculate mean absolute error on the ground truth (artificially-missing values)\n",
    "get_population_MAE(SAITS, normalized, indicating_mask, \"SAITS\") # calculate mean absolute error on the ground truth (artificially-missing values)\n",
    "get_population_MAE(imputed_ours, normalized, indicating_mask, \"IGNITE\") # c"
   ]
  },
  {
   "cell_type": "markdown",
   "id": "a81f9d83",
   "metadata": {},
   "source": [
    "get weighted population sum"
   ]
  },
  {
   "cell_type": "code",
   "execution_count": 28,
   "id": "fd73e249",
   "metadata": {},
   "outputs": [
    {
     "name": "stdout",
     "output_type": "stream",
     "text": [
      "LOCF 0.035125551911875996\n",
      "mean 0.038756004487021295\n",
      "mice 0.0315468563296229\n",
      "BRITS 0.01801989315505699\n"
     ]
    },
    {
     "ename": "NameError",
     "evalue": "name 'get_populatiaon_MAE_weighted' is not defined",
     "output_type": "error",
     "traceback": [
      "\u001b[1;31m---------------------------------------------------------------------------\u001b[0m",
      "\u001b[1;31mNameError\u001b[0m                                 Traceback (most recent call last)",
      "Input \u001b[1;32mIn [28]\u001b[0m, in \u001b[0;36m<cell line: 5>\u001b[1;34m()\u001b[0m\n\u001b[0;32m      3\u001b[0m get_population_MAE_weighted(MICE, normalized, indicating_mask, \u001b[38;5;124m\"\u001b[39m\u001b[38;5;124mmice\u001b[39m\u001b[38;5;124m\"\u001b[39m) \u001b[38;5;66;03m# calculate mean absolute error on the ground truth (artificially-missing values)\u001b[39;00m\n\u001b[0;32m      4\u001b[0m get_population_MAE_weighted(BRITS, normalized, indicating_mask, \u001b[38;5;124m\"\u001b[39m\u001b[38;5;124mBRITS\u001b[39m\u001b[38;5;124m\"\u001b[39m)\u001b[38;5;66;03m# calculate mean absolute error on the ground truth (artificially-missing values)\u001b[39;00m\n\u001b[1;32m----> 5\u001b[0m \u001b[43mget_populatiaon_MAE_weighted\u001b[49m(SAITS, normalized, indicating_mask, \u001b[38;5;124m\"\u001b[39m\u001b[38;5;124mSAITS\u001b[39m\u001b[38;5;124m\"\u001b[39m) \u001b[38;5;66;03m# calculate mean absolute error on the ground truth (artificially-missing values)\u001b[39;00m\n\u001b[0;32m      6\u001b[0m get_population_MAE_weighted(imputed_ours, normalized, indicating_mask, \u001b[38;5;124m\"\u001b[39m\u001b[38;5;124mIGNITE\u001b[39m\u001b[38;5;124m\"\u001b[39m)\n",
      "\u001b[1;31mNameError\u001b[0m: name 'get_populatiaon_MAE_weighted' is not defined"
     ]
    }
   ],
   "source": [
    "get_population_MAE_weighted(LOCV, normalized, indicating_mask, \"LOCF\") \n",
    "get_population_MAE_weighted(mean_imputed, normalized, indicating_mask, \"mean\") # calculate mean absolute error on the ground truth (artificially-missing values)\n",
    "get_population_MAE_weighted(MICE, normalized, indicating_mask, \"mice\") # calculate mean absolute error on the ground truth (artificially-missing values)\n",
    "get_population_MAE_weighted(BRITS, normalized, indicating_mask, \"BRITS\")# calculate mean absolute error on the ground truth (artificially-missing values)\n",
    "get_populatiaon_MAE_weighted(SAITS, normalized, indicating_mask, \"SAITS\") # calculate mean absolute error on the ground truth (artificially-missing values)\n",
    "get_population_MAE_weighted(imputed_ours, normalized, indicating_mask, \"IGNITE\") # cl"
   ]
  },
  {
   "cell_type": "code",
   "execution_count": null,
   "id": "7114860d",
   "metadata": {},
   "outputs": [],
   "source": [
    "get_population_RMSE_weighted(LOCV, normalized, indicating_mask, \"LOCF\") \n",
    "get_population_RMSE_weighted(mean_imputed, normalized, indicating_mask, \"mean\") # calculate mean absolute error on the ground truth (artificially-missing values)\n",
    "get_population_RMSE_weighted(MICE, normalized, indicating_mask, \"mice\") # calculate mean absolute error on the ground truth (artificially-missing values)\n",
    "get_population_RMSE_weighted(BRITS, normalized, indicating_mask, \"BRITS\")# calculate mean absolute error on the ground truth (artificially-missing values)\n",
    "get_population_RMSE_weighted(SAITS, normalized, indicating_mask, \"SAITS\") # calculate mean absolute error on the ground truth (artificially-missing values)\n",
    "get_population_RMSE_weighted(imputed_ours, normalized, indicating_mask, \"IGNITE\") # cl"
   ]
  },
  {
   "cell_type": "code",
   "execution_count": null,
   "id": "7397f1e7",
   "metadata": {},
   "outputs": [],
   "source": [
    "get_population_MSE_weighted(LOCV, normalized, indicating_mask, \"LOCF\") \n",
    "get_population_MSE_weighted(mean_imputed, normalized, indicating_mask, \"mean\") # calculate mean absolute error on the ground truth (artificially-missing values)\n",
    "get_population_MSE_weighted(MICE, normalized, indicating_mask, \"mice\") # calculate mean absolute error on the ground truth (artificially-missing values)\n",
    "get_population_MSE_weighted(BRITS, normalized, indicating_mask, \"BRITS\")# calculate mean absolute error on the ground truth (artificially-missing values)\n",
    "get_population_MSE_weighted(SAITS, normalized, indicating_mask, \"SAITS\") # calculate mean absolute error on the ground truth (artificially-missing values)\n",
    "get_population_MSE_weighted(imputed_ours, normalized, indicating_mask, \"IGNITE\") # cl"
   ]
  },
  {
   "cell_type": "code",
   "execution_count": 25,
   "id": "f5995409",
   "metadata": {},
   "outputs": [
    {
     "data": {
      "text/plain": [
       "array([0.165735424, 0.193318367, 0.293333333, 0.206881613, 0.203629792,\n",
       "       0.293333333, 0.293333333, 0.293333333, 0.198698521, 0.199368238,\n",
       "       0.266666667, 0.201000512, 0.266666667, 0.266666667, 0.266666667,\n",
       "       0.199797153, 0.266666667, 0.266666667, 0.191591978, 0.194769919,\n",
       "       0.18991977 , 0.27       , 0.266666667, 0.192242503, 0.266666667,\n",
       "       0.191875398, 0.186246723, 0.191126555, 0.266666667, 0.191593587,\n",
       "       0.185452282, 0.190628111, 0.187229365, 0.226666667, 0.185252488,\n",
       "       0.190384179, 0.23       , 0.191483378, 0.185270041, 0.190238208,\n",
       "       0.187246412, 0.191506863, 0.185381114, 0.236666667, 0.24       ,\n",
       "       0.191456676, 0.233333333, 0.216666667])"
      ]
     },
     "execution_count": 25,
     "metadata": {},
     "output_type": "execute_result"
    }
   ],
   "source": [
    "imputed_ours[1,:,1]"
   ]
  },
  {
   "cell_type": "code",
   "execution_count": 27,
   "id": "eeee0cbc",
   "metadata": {},
   "outputs": [
    {
     "data": {
      "text/plain": [
       "array([0., 1., 0., 1., 1., 0., 0., 0., 1., 1., 0., 1., 0., 0., 0., 1., 0.,\n",
       "       0., 1., 1., 1., 0., 0., 1., 0., 1., 1., 1., 0., 1., 1., 1., 1., 0.,\n",
       "       1., 1., 0., 1., 1., 1., 1., 1., 1., 0., 0., 1., 0., 0.])"
      ]
     },
     "execution_count": 27,
     "metadata": {},
     "output_type": "execute_result"
    }
   ],
   "source": [
    "indicating_mask[1,:,1]"
   ]
  },
  {
   "cell_type": "code",
   "execution_count": null,
   "id": "22964d13",
   "metadata": {},
   "outputs": [],
   "source": []
  }
 ],
 "metadata": {
  "kernelspec": {
   "display_name": "Python 3 (ipykernel)",
   "language": "python",
   "name": "python3"
  },
  "language_info": {
   "codemirror_mode": {
    "name": "ipython",
    "version": 3
   },
   "file_extension": ".py",
   "mimetype": "text/x-python",
   "name": "python",
   "nbconvert_exporter": "python",
   "pygments_lexer": "ipython3",
   "version": "3.9.13"
  }
 },
 "nbformat": 4,
 "nbformat_minor": 5
}
