{
 "cells": [
  {
   "cell_type": "code",
   "execution_count": null,
   "id": "980579d6",
   "metadata": {},
   "outputs": [],
   "source": [
    "import numpy as np\n",
    "import pandas as pd\n",
    "import os\n",
    "import pickle\n",
    "from bottleneck import push\n",
    "from downstream_eval import *\n",
    "from fancyimpute import IterativeImputer as MICE\n",
    "from fancyimpute import IterativeImputer, KNN, MatrixFactorization\n"
   ]
  },
  {
   "cell_type": "markdown",
   "id": "05e63a92",
   "metadata": {},
   "source": [
    "load datasets"
   ]
  },
  {
   "cell_type": "code",
   "execution_count": null,
   "id": "5f015ecf",
   "metadata": {},
   "outputs": [],
   "source": [
    "GP_VAE=np.load(\"imputed_no_gt (1).npy\")"
   ]
  },
  {
   "cell_type": "code",
   "execution_count": null,
   "id": "104df47d",
   "metadata": {},
   "outputs": [],
   "source": [
    "exp_name = \".....\"\n",
    "d = np.load('data/'+exp_name+'.npz')"
   ]
  },
  {
   "cell_type": "code",
   "execution_count": null,
   "id": "67b516e4",
   "metadata": {},
   "outputs": [],
   "source": [
    "def renormalize(data, means, stds):\n",
    "    renorms=[]\n",
    "    for patient in data:\n",
    "        r= patient*stds+ means\n",
    "        renorms.append(r)\n",
    "    renorm_full = np.stack(renorms, axis=0)\n",
    "    return(renorm_full)\n",
    "def normalize(data, means, stds):\n",
    "    renorms=[]\n",
    "    for patient in data:\n",
    "        r= (patient-means) /stds\n",
    "        renorms.append(r)\n",
    "    renorm_full = np.stack(renorms, axis=0)\n",
    "    return(renorm_full)"
   ]
  },
  {
   "cell_type": "code",
   "execution_count": null,
   "id": "f847569e",
   "metadata": {},
   "outputs": [],
   "source": [
    "data_path = 'extracts/'\n",
    "with open(os.path.join(data_path, 'mask_combined.pkl'), 'rb') as f:\n",
    "    miss = pickle.load(f)\n",
    "with open(os.path.join(data_path, 'LOCV_combined.pkl'), 'rb') as f:\n",
    "    LOCF = pickle.load(f)\n",
    "with open(os.path.join(data_path, 'normalized_combined.pkl'), 'rb') as f:\n",
    "    original = pickle.load(f)\n",
    "with open(os.path.join(data_path, 'out_combined.pkl'), 'rb') as f:\n",
    "    outcomes = pickle.load(f)\n",
    "zero=np.where(np.isnan(original), 0, original)"
   ]
  },
  {
   "cell_type": "code",
   "execution_count": null,
   "id": "dda9bfd6",
   "metadata": {},
   "outputs": [],
   "source": [
    "outcomes"
   ]
  },
  {
   "cell_type": "markdown",
   "id": "e20ed33d",
   "metadata": {},
   "source": [
    "Get Mean & STD"
   ]
  },
  {
   "cell_type": "code",
   "execution_count": null,
   "id": "10b2dbd6",
   "metadata": {},
   "outputs": [],
   "source": [
    "means = []\n",
    "stds = []\n",
    "flatten= original.reshape(original.shape[0]*original.shape[1], original.shape[2])\n",
    "for i in range(original.shape[2]):\n",
    "    means.append(np.nanmean(flatten[:,i]))\n",
    "    stds.append(np.nanstd(flatten[:,i]))"
   ]
  },
  {
   "cell_type": "markdown",
   "id": "98022ee1",
   "metadata": {},
   "source": [
    "Get MICE Imputations"
   ]
  },
  {
   "cell_type": "code",
   "execution_count": null,
   "id": "aa26d830",
   "metadata": {},
   "outputs": [],
   "source": [
    "mice_impute = IterativeImputer()\n",
    "MICE = mice_impute.fit_transform(flatten)\n",
    "MICE=MICE.reshape(original.shape[0], original.shape[1], original.shape[2])"
   ]
  },
  {
   "cell_type": "code",
   "execution_count": null,
   "id": "be22c03e",
   "metadata": {},
   "outputs": [],
   "source": [
    "# mf = MatrixFactorization(verbose=False)\n",
    "# MF = mf.fit_transform(flatten)\n",
    "# MF=MF.reshape(original.shape[0], original.shape[1], original.shape[2])"
   ]
  },
  {
   "cell_type": "code",
   "execution_count": null,
   "id": "427181f8",
   "metadata": {},
   "outputs": [],
   "source": [
    "# knn = KNN(k=5, verbose=False)\n",
    "# KNN_ = knn.fit_transform(flatten)\n",
    "# KNN_=KNN_.reshape(original.shape[0], original.shape[1], original.shape[2])"
   ]
  },
  {
   "cell_type": "code",
   "execution_count": null,
   "id": "f57636e6",
   "metadata": {},
   "outputs": [],
   "source": [
    "array= np.array(miss, dtype=float)\n",
    "imputed_ours =(array * (d[\"observed_only_real\"])+ ((1-array) *d[\"IMM_rec\"]))\n",
    "#imputed_GP =(array * (d[\"observed_only_real\"])+ ((1-array) *GP_VAE[:,:,:35]))"
   ]
  },
  {
   "cell_type": "code",
   "execution_count": null,
   "id": "305f54f1",
   "metadata": {},
   "outputs": [],
   "source": [
    "list_baseline =[zero,LOCF,MICE, GP_VAE,imputed_ours]\n",
    "list_baseline_names = [\"Zero\",\"LOCF\",\"MICE\", \"GP-VAE\", \"IGNITE\"]\n",
    "list_baseline =[imputed_ours]\n",
    "list_baseline_names = [\"IGNITE\"]"
   ]
  },
  {
   "cell_type": "markdown",
   "id": "f0058b3a",
   "metadata": {},
   "source": [
    "## General performance evaluation"
   ]
  },
  {
   "cell_type": "code",
   "execution_count": null,
   "id": "3233ad60",
   "metadata": {},
   "outputs": [],
   "source": [
    "get_results(list_baseline_names,list_baseline,outcomes)"
   ]
  },
  {
   "cell_type": "markdown",
   "id": "b2e5ac1b",
   "metadata": {},
   "source": [
    "## Sample-wise missingness results\n"
   ]
  },
  {
   "cell_type": "code",
   "execution_count": null,
   "id": "1bf96947",
   "metadata": {},
   "outputs": [],
   "source": [
    "# choose the min and max allowed sample-wise missingness (0%, 80%)\n",
    "get_result_sample_missingess(list_baseline_names,list_baseline,outcomes, miss, 0, 0.8)"
   ]
  },
  {
   "cell_type": "code",
   "execution_count": null,
   "id": "30d4bd9d",
   "metadata": {},
   "outputs": [],
   "source": [
    "# choose the min and max allowed sample-wise missingness (80%, 85%)\n",
    "\n",
    "get_result_sample_missingess(list_baseline_names,list_baseline,outcomes, miss, 0.8, 0.85)"
   ]
  },
  {
   "cell_type": "code",
   "execution_count": null,
   "id": "13370fb9",
   "metadata": {},
   "outputs": [],
   "source": [
    "# choose the min and max allowed sample-wise missingness (85%, 100%)\n",
    "\n",
    "get_result_sample_missingess(list_baseline_names,list_baseline,outcomes, miss, 0.85, 1.0001)"
   ]
  },
  {
   "cell_type": "markdown",
   "id": "dd23787c",
   "metadata": {},
   "source": [
    "## Feature-wise missingness results"
   ]
  },
  {
   "cell_type": "code",
   "execution_count": null,
   "id": "fe072833",
   "metadata": {},
   "outputs": [],
   "source": [
    "# choose the min and max allowed feature-wise missingness (0%, 15%)\n",
    "\n",
    "get_result_feature_missingess(list_baseline_names,list_baseline,outcomes, miss, 0.0, 0.15)"
   ]
  },
  {
   "cell_type": "code",
   "execution_count": null,
   "id": "c0889d96",
   "metadata": {},
   "outputs": [],
   "source": [
    "# choose the min and max allowed feature-wise missingness (15%, 45%)\n",
    "\n",
    "get_result_feature_missingess(list_baseline_names,list_baseline,outcomes, miss, 0.15, 0.45)"
   ]
  },
  {
   "cell_type": "code",
   "execution_count": null,
   "id": "40060656",
   "metadata": {},
   "outputs": [],
   "source": [
    "# choose the min and max allowed feature-wise missingness (45%, 100%)\n",
    "\n",
    "get_result_feature_missingess(list_baseline_names,list_baseline,outcomes, miss, 0.45, 1)"
   ]
  },
  {
   "cell_type": "code",
   "execution_count": null,
   "id": "65b6536f",
   "metadata": {},
   "outputs": [],
   "source": []
  },
  {
   "cell_type": "code",
   "execution_count": null,
   "id": "f6fd8347",
   "metadata": {},
   "outputs": [],
   "source": []
  }
 ],
 "metadata": {
  "kernelspec": {
   "display_name": "Python 3 (ipykernel)",
   "language": "python",
   "name": "python3"
  },
  "language_info": {
   "codemirror_mode": {
    "name": "ipython",
    "version": 3
   },
   "file_extension": ".py",
   "mimetype": "text/x-python",
   "name": "python",
   "nbconvert_exporter": "python",
   "pygments_lexer": "ipython3",
   "version": "3.9.13"
  }
 },
 "nbformat": 4,
 "nbformat_minor": 5
}
